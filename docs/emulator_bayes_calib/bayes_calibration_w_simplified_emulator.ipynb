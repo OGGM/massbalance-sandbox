{
 "cells": [
  {
   "cell_type": "markdown",
   "id": "dependent-retirement",
   "metadata": {},
   "source": [
    "## Try any kind of simple fit and put it then into the pymc stuff"
   ]
  },
  {
   "cell_type": "code",
   "execution_count": 2,
   "id": "according-split",
   "metadata": {},
   "outputs": [],
   "source": []
  },
  {
   "cell_type": "code",
   "execution_count": 1,
   "id": "final-fields",
   "metadata": {},
   "outputs": [
    {
     "name": "stderr",
     "output_type": "stream",
     "text": [
      "/home/lilianschuster/micromamba/envs/oggm_pymc/lib/python3.9/site-packages/aeppl/rewriting.py:13: DeprecationWarning: `ShapeFeature` is now located in `aesara.tensor.rewriting.shape`.\n",
      "  from aesara.tensor.rewriting.basic import (\n",
      "/home/lilianschuster/micromamba/envs/oggm_pymc/lib/python3.9/site-packages/aeppl/utils.py:21: DeprecationWarning: `ShapeFeature` is now located in `aesara.tensor.rewriting.shape`.\n",
      "  from aesara.tensor.rewriting.basic import ShapeFeature, topo_constant_folding\n",
      "/home/lilianschuster/micromamba/envs/oggm_pymc/lib/python3.9/site-packages/aeppl/printing.py:29: DeprecationWarning: `ShapeFeature` is now located in `aesara.tensor.rewriting.shape`.\n",
      "  from aesara.tensor.rewriting.basic import ShapeFeature\n",
      "2022-10-24 12:17:50: oggm.cfg: Reading default parameters from the OGGM `params.cfg` configuration file.\n",
      "2022-10-24 12:17:50: oggm.cfg: Multiprocessing switched OFF according to the parameter file.\n",
      "2022-10-24 12:17:50: oggm.cfg: Multiprocessing: using all available processors (N=8)\n",
      "2022-10-24 12:17:50: oggm.cfg: Multiprocessing switched ON after user settings.\n"
     ]
    }
   ],
   "source": [
    "import seaborn as sns\n",
    "import matplotlib.pyplot as plt\n",
    "plt.rc('font', size=20)\n",
    "import warnings\n",
    "warnings.filterwarnings(\"once\", category=DeprecationWarning)  # noqa: E402\n",
    "import scipy\n",
    "# imports from OGGM\n",
    "import oggm\n",
    "from oggm import utils, workflow, tasks, cfg, entity_task\n",
    "import numpy as np\n",
    "import pandas as pd\n",
    "from MBsandbox.mbmod_daily_oneflowline import (TIModel_Sfc_Type, TIModel, process_w5e5_data)\n",
    "from MBsandbox.wip.projections_bayescalibration import process_isimip_data, process_isimip_data_no_corr\n",
    "from MBsandbox.help_func import (minimize_winter_mb_brentq_geod_via_pf,\n",
    "                                 minimize_bias_geodetic,\n",
    "                                 calibrate_to_geodetic_bias_winter_mb)\n",
    "from MBsandbox.mbmod_daily_oneflowline import compile_fixed_geometry_mass_balance_TIModel\n",
    "import time\n",
    "import logging\n",
    "\n",
    "log = logging.getLogger(__name__)\n",
    "\n",
    "climate_type = 'W5E5'\n",
    "\n",
    "# get the geodetic calibration data\n",
    "pd_geodetic_all = utils.get_geodetic_mb_dataframe()\n",
    "# pd_geodetic_all = pd.read_hdf(path_geodetic, index_col='rgiid')\n",
    "pd_geodetic = pd_geodetic_all.loc[pd_geodetic_all.period == '2000-01-01_2020-01-01']\n",
    "\n",
    "\n",
    "#pd_wgms_ref_glac_analysis = pd.read_csv('/home/lilianschuster/Schreibtisch/PhD/wgms_data_analysis/wgms_data_analysis.csv', index_col=[0])\n",
    "#rgis_w_mb_profiles = pd_wgms_ref_glac_analysis[pd_wgms_ref_glac_analysis.MB_profile.dropna()].index\n",
    "\n",
    "import MBsandbox\n",
    "fp = utils.file_downloader('https://cluster.klima.uni-bremen.de/~lschuster/ref_glaciers' +\n",
    "                           '/data/mb_overview_seasonal_mb_time_periods_20220301.csv')\n",
    "pd_mb_overview = pd.read_csv(fp, index_col='Unnamed: 0')\n",
    "fp_stats = utils.file_downloader('https://cluster.klima.uni-bremen.de/~lschuster/ref_glaciers' +\n",
    "                           '/data/wgms_data_stats_20220301.csv')\n",
    "pd_wgms_data_stats = pd.read_csv(fp_stats, index_col='Unnamed: 0')\n",
    "# should have at least 5 annual MB estimates in the time period 1980-2019\n",
    "# (otherwise can also not have MB profiles or winter MB!)\n",
    "pd_wgms_data_stats = pd_wgms_data_stats.loc[pd_wgms_data_stats.len_annual_balance>=5]\n",
    "ref_candidates = pd_wgms_data_stats.rgi_id.unique()\n",
    "\n",
    "# for tests\n",
    "#testing = testing\n",
    "#if testing:\n",
    "#    ref_candidates = ['RGI60-11.01450'] #rgis_w_mb_profiles #oggm.utils.get_ref_mb_glaciers_candidates()\n",
    "#    working_dir = utils.gettempdir(dirname='OGGM_seasonal_mb_calib', reset=True)\n",
    "#else:\n",
    "working_dir = '/home/lilianschuster/Schreibtisch/PhD/bayes_2022/oct_2022_emulator/'\n",
    "#utils.gettempdir(dirname='OGGM_seasonal_mb_calib', reset=False)\n",
    "\n",
    "cfg.initialize()\n",
    "cfg.PARAMS['use_multiprocessing'] = True #True\n",
    "cfg.PATHS['working_dir'] = working_dir\n",
    "cfg.PARAMS['hydro_month_nh'] = 1\n",
    "cfg.PARAMS['hydro_month_sh'] = 1\n",
    "cfg.PARAMS['continue_on_error'] = False\n",
    "warnings.filterwarnings(\"ignore\", category=DeprecationWarning) \n",
    "\n",
    "correction = False"
   ]
  },
  {
   "cell_type": "code",
   "execution_count": 2,
   "id": "overhead-disposal",
   "metadata": {},
   "outputs": [],
   "source": [
    "from oggm.core import massbalance, climate\n"
   ]
  },
  {
   "cell_type": "code",
   "execution_count": 3,
   "id": "crazy-developer",
   "metadata": {},
   "outputs": [],
   "source": [
    "rgi_id = 'RGI60-11.01450'\n"
   ]
  },
  {
   "cell_type": "code",
   "execution_count": 4,
   "id": "technological-scholarship",
   "metadata": {},
   "outputs": [
    {
     "name": "stderr",
     "output_type": "stream",
     "text": [
      "2022-10-24 12:17:55: oggm.cfg: PARAMS['border'] changed from `40` to `10`.\n",
      "2022-10-24 12:17:55: oggm.workflow: Execute entity tasks [GlacierDirectory] on 1 glaciers\n"
     ]
    }
   ],
   "source": [
    "cfg.PARAMS['border'] = 10\n",
    "base_url = 'https://cluster.klima.uni-bremen.de/~oggm/gdirs/oggm_v1.6/L3-L5_files/elev_bands/w5e5/qc0/pcpwin/match_geod_pergla'\n",
    "\n",
    "load = False\n",
    "if load:    \n",
    "    gdirs = workflow.init_glacier_directories(['RGI60-11.01450'], \n",
    "                                              from_prepro_level=3, prepro_base_url=base_url)\n",
    "\n",
    "    t=workflow.execute_entity_task(tasks.compute_downstream_line, gdirs)\n",
    "    t=workflow.execute_entity_task(tasks.compute_downstream_bedshape, gdirs)\n",
    "    #if baseline_climate == 'W5E5':\n",
    "    #if mb_type != 'mb_monthly':\n",
    "\n",
    "    #t = workflow.execute_entity_task(process_w5e5_data, gdirs, climate_type=baseline_climate,\n",
    "    #                              temporal_resol='monthly')\n",
    "    #else:\n",
    "    #t = workflow.execute_entity_task(process_w5e5_data, gdirs, climate_type=baseline_climate,\n",
    "    #                          temporal_resol='daily')\n",
    "    #t = workflow.execute_entity_task(process_era5_daily_data, gdirs, #climate_type=baseline_climate,\n",
    "                              #temporal_resol='daily'process_era5_daily_data(gd)\n",
    "    #                                )\n",
    "else:\n",
    "    rgi_id = 'RGI60-11.01450'\n",
    "    gdirs = workflow.init_glacier_directories(['RGI60-11.01450'])"
   ]
  },
  {
   "cell_type": "code",
   "execution_count": 5,
   "id": "consolidated-fleet",
   "metadata": {},
   "outputs": [],
   "source": [
    "#import pymc as pm\n",
    "import numpy as np\n",
    "import arviz as az\n",
    "import pandas as pd\n",
    "import MBsandbox\n",
    "from MBsandbox.wip import bayes_calib_geod_direct\n",
    "from oggm import cfg, utils, workflow, tasks, graphics\n"
   ]
  },
  {
   "cell_type": "code",
   "execution_count": null,
   "id": "differential-portugal",
   "metadata": {},
   "outputs": [],
   "source": []
  },
  {
   "cell_type": "code",
   "execution_count": 6,
   "id": "developmental-passage",
   "metadata": {},
   "outputs": [],
   "source": [
    "load = False\n",
    "if load:\n",
    "    pd_spec_mb_gcm_vs_w5e5 = pd.DataFrame(np.NaN, index=np.arange(0, 1000000), #*len(gdirs))),\n",
    "                                columns=['rgi_id', 'gcm', 'ssp',\n",
    "                                        'spec_mb_2000_2019_gcm', 'spec_mb_2000_2019_w5e5',\n",
    "                                         'spec_mb_2000_2019_obs', 'apply_bias_correction'])\n",
    "\n",
    "\n",
    "    hgts, widths = gdir.get_inversion_flowline_hw()\n",
    "    mb_mod = massbalance.PastMassBalance(gdir)\n",
    "    spec_mb_2000_2019_w5e5 = mb_mod.get_specific_mb(heights=hgts, widths=widths,\n",
    "                                                    year=np.arange(2000, 2019 + 1, 1)).mean()\n",
    "    spec_mb_2000_2019_obs = pd_geod.loc[gdir.rgi_id].dmdtda*1000"
   ]
  },
  {
   "cell_type": "code",
   "execution_count": 7,
   "id": "understanding-mistress",
   "metadata": {},
   "outputs": [],
   "source": [
    "import datetime\n",
    "start_time = datetime.datetime.now()\n",
    "\n",
    "columns = ['prcp_fac', 'melt_f', 'temp_bias', 'spec_mb_mean']\n",
    "#columns = [*columns, *np.arange(2000, 2020,1).astype(str)]\n",
    "#melt_f = 200\n",
    "#spec_mbs = {}\n",
    "load = False\n",
    "if load:\n",
    "    j = 0\n",
    "    gdir = gdirs[0]\n",
    "\n",
    "    pf_winter = oggm.core.climate.decide_winter_precip_factor(gdir)\n",
    "\n",
    "    hgts, widths = gdir.get_inversion_flowline_hw()\n",
    "    mb_mod = massbalance.PastMassBalance(gdir)\n",
    "    \n",
    "    pd_spec_mb = pd.DataFrame(columns = columns)\n",
    "    for temp_bias in np.arange(-10, 10, 0.1):\n",
    "        for prcp_fac in [pf_winter]:\n",
    "            for melt_f in np.arange(10,1000, 10):\n",
    "                mb_mod.prcp_fac = prcp_fac\n",
    "                mb_mod.mu_star = melt_f\n",
    "                mb_mod.temp_bias = temp_bias\n",
    "\n",
    "                # just check if calibration worked ...\n",
    "                spec_mb = mb_mod.get_specific_mb(heights=hgts, widths=widths,\n",
    "                                                 year=np.arange(2000, 2020, 1))\n",
    "                spec_mb_mean = spec_mb.mean()\n",
    "\n",
    "                #spec_mbs[prcp_fac] = spec_mb\n",
    "                pd_spec_mb.loc[j] = np.array([prcp_fac, melt_f, temp_bias, spec_mb_mean]) # , spec_mb))\n",
    "\n",
    "                j+=1\n",
    "\n",
    "    end_time = datetime.datetime.now()\n",
    "    pd_spec_mb.to_csv(f'test_mb_{gdir.rgi_id}_fixed_pf.csv')\n",
    "    #pd_spec_mb_sfc.to_csv('test_mb_sfc.csv')\n",
    "else:\n",
    "    pd_spec_mb = pd.read_csv(f'test_mb_{rgi_id}_fixed_pf.csv', index_col=[0])\n"
   ]
  },
  {
   "cell_type": "code",
   "execution_count": 72,
   "id": "stone-hybrid",
   "metadata": {},
   "outputs": [
    {
     "data": {
      "text/html": [
       "<div>\n",
       "<style scoped>\n",
       "    .dataframe tbody tr th:only-of-type {\n",
       "        vertical-align: middle;\n",
       "    }\n",
       "\n",
       "    .dataframe tbody tr th {\n",
       "        vertical-align: top;\n",
       "    }\n",
       "\n",
       "    .dataframe thead th {\n",
       "        text-align: right;\n",
       "    }\n",
       "</style>\n",
       "<table border=\"1\" class=\"dataframe\">\n",
       "  <thead>\n",
       "    <tr style=\"text-align: right;\">\n",
       "      <th></th>\n",
       "      <th>period</th>\n",
       "      <th>area</th>\n",
       "      <th>dmdtda</th>\n",
       "      <th>err_dmdtda</th>\n",
       "      <th>reg</th>\n",
       "      <th>is_cor</th>\n",
       "    </tr>\n",
       "    <tr>\n",
       "      <th>rgiid</th>\n",
       "      <th></th>\n",
       "      <th></th>\n",
       "      <th></th>\n",
       "      <th></th>\n",
       "      <th></th>\n",
       "      <th></th>\n",
       "    </tr>\n",
       "  </thead>\n",
       "  <tbody>\n",
       "    <tr>\n",
       "      <th>RGI60-11.01450</th>\n",
       "      <td>2000-01-01_2010-01-01</td>\n",
       "      <td>82206000.0</td>\n",
       "      <td>-1.1896</td>\n",
       "      <td>0.1938</td>\n",
       "      <td>11</td>\n",
       "      <td>False</td>\n",
       "    </tr>\n",
       "    <tr>\n",
       "      <th>RGI60-11.01450</th>\n",
       "      <td>2000-01-01_2020-01-01</td>\n",
       "      <td>82206000.0</td>\n",
       "      <td>-1.2107</td>\n",
       "      <td>0.1315</td>\n",
       "      <td>11</td>\n",
       "      <td>False</td>\n",
       "    </tr>\n",
       "    <tr>\n",
       "      <th>RGI60-11.01450</th>\n",
       "      <td>2010-01-01_2020-01-01</td>\n",
       "      <td>82206000.0</td>\n",
       "      <td>-1.2317</td>\n",
       "      <td>0.1715</td>\n",
       "      <td>11</td>\n",
       "      <td>False</td>\n",
       "    </tr>\n",
       "  </tbody>\n",
       "</table>\n",
       "</div>"
      ],
      "text/plain": [
       "                               period        area  dmdtda  err_dmdtda  reg  \\\n",
       "rgiid                                                                        \n",
       "RGI60-11.01450  2000-01-01_2010-01-01  82206000.0 -1.1896      0.1938   11   \n",
       "RGI60-11.01450  2000-01-01_2020-01-01  82206000.0 -1.2107      0.1315   11   \n",
       "RGI60-11.01450  2010-01-01_2020-01-01  82206000.0 -1.2317      0.1715   11   \n",
       "\n",
       "                is_cor  \n",
       "rgiid                   \n",
       "RGI60-11.01450   False  \n",
       "RGI60-11.01450   False  \n",
       "RGI60-11.01450   False  "
      ]
     },
     "execution_count": 72,
     "metadata": {},
     "output_type": "execute_result"
    }
   ],
   "source": [
    "utils.get_geodetic_mb_dataframe().loc[gdir.rgi_id]"
   ]
  },
  {
   "cell_type": "code",
   "execution_count": 12,
   "id": "beautiful-explosion",
   "metadata": {},
   "outputs": [],
   "source": [
    "import datetime\n",
    "start_time = datetime.datetime.now()\n",
    "\n",
    "columns = ['prcp_fac', 'melt_f', 'temp_bias', 'spec_mb_mean']\n",
    "#columns = [*columns, *np.arange(2000, 2020,1).astype(str)]\n",
    "#melt_f = 200\n",
    "#spec_mbs = {}\n",
    "load = False\n",
    "gdir = gdirs[0]\n",
    "\n",
    "pf_winter = oggm.core.climate.decide_winter_precip_factor(gdir)\n",
    "\n",
    "hgts, widths = gdir.get_inversion_flowline_hw()\n",
    "mb_mod = massbalance.PastMassBalance(gdir)\n",
    "if load:\n",
    "    j = 0\n",
    "\n",
    "    \n",
    "    pd_spec_mb_test = pd.DataFrame(columns = columns)\n",
    "    for temp_bias in np.arange(-10.05, 10.05, 0.1):\n",
    "        for prcp_fac in [pf_winter]:\n",
    "            for melt_f in np.arange(15,1000, 10):\n",
    "                mb_mod.prcp_fac = prcp_fac\n",
    "                mb_mod.mu_star = melt_f\n",
    "                mb_mod.temp_bias = temp_bias\n",
    "\n",
    "\n",
    "                # just check if calibration worked ...\n",
    "                spec_mb = mb_mod.get_specific_mb(heights=hgts, widths=widths,\n",
    "                                                 year=np.arange(2000, 2020, 1))\n",
    "                spec_mb_mean = spec_mb.mean()\n",
    "\n",
    "                #spec_mbs[prcp_fac] = spec_mb\n",
    "                pd_spec_mb_test.loc[j] = np.array([prcp_fac, melt_f, temp_bias, spec_mb_mean]) # , spec_mb))\n",
    "\n",
    "                j+=1\n",
    "\n",
    "    end_time = datetime.datetime.now()\n",
    "    pd_spec_mb_test.to_csv(f'test_mb_{gdir.rgi_id}_fixed_pf_test.csv')\n",
    "    #pd_spec_mb_sfc.to_csv('test_mb_sfc.csv')\n",
    "else:\n",
    "    pd_spec_mb_test = pd.read_csv(f'test_mb_{rgi_id}_fixed_pf_test.csv', index_col=[0])\n",
    "    # too many values ... \n",
    "    pd_spec_mb = pd_spec_mb_test.sort_values(by=['melt_f', 'temp_bias']).iloc[1::3]\n",
    "    pd_spec_mb = pd_spec_mb.sort_values(by=['temp_bias','melt_f']).iloc[::2]"
   ]
  },
  {
   "cell_type": "code",
   "execution_count": 22,
   "id": "answering-conference",
   "metadata": {},
   "outputs": [],
   "source": [
    "import aesara"
   ]
  },
  {
   "cell_type": "code",
   "execution_count": 24,
   "id": "blessed-andrews",
   "metadata": {},
   "outputs": [],
   "source": [
    "ityp_l = [tt.dscalar, tt.dscalar]\n",
    "otyp = at.dscalar\n",
    "@aesara.compile.ops.as_op(itypes=ityp_l, otypes=[otyp])\n",
    "def my_mb_model(X): #mb_mod\n",
    "    melt_f, t_b = X\n",
    "    mb_mod.temp_bias = t_b\n",
    "    mb_mod.mu_star = melt_f\n",
    "    spec_mb = mb_mod.get_specific_mb(heights=hgts, widths=widths,\n",
    "                                                 year=np.arange(2000, 2020, 1))\n",
    "    return spec_mb.mean()\n",
    "\n",
    "# this here is \n",
    "def my_mb_model_loglike(X, mb_mod, data, sigma):\n",
    "    model = my_mb_model(theta, mb_mod)\n",
    "    return -(0.5 / sigma**2) * np.sum((data - model) ** 2)"
   ]
  },
  {
   "cell_type": "code",
   "execution_count": 29,
   "id": "appreciated-deadline",
   "metadata": {},
   "outputs": [],
   "source": [
    "import pymc as pm"
   ]
  },
  {
   "cell_type": "code",
   "execution_count": 49,
   "id": "willing-offense",
   "metadata": {},
   "outputs": [],
   "source": [
    "# if I want to debug aesara can set that to 'on' or 'warn'\n",
    "aesara.config.compute_test_value = 'off' # Use 'warn' to activate this feature"
   ]
  },
  {
   "cell_type": "code",
   "execution_count": 88,
   "id": "seasonal-extreme",
   "metadata": {},
   "outputs": [
    {
     "name": "stderr",
     "output_type": "stream",
     "text": [
      "/home/lilianschuster/massbalance-sandbox/MBsandbox/mbmod_daily_oneflowline.py:1044: UserWarning: you changed the default input_filesuffix of the climate,make sure that the default climate (without filesuffix)is what you want and is compatible to the chosen temporal resolution!\n",
      "  warnings.warn('you changed the default input_filesuffix of the climate,'\n"
     ]
    }
   ],
   "source": [
    "# somehow it works (slowly) in case of TIModel but not for PastMassBalance model --> not really sure why....\n",
    "mb_mod = TIModel(gdir, 150, mb_type='mb_monthly', prcp_fac=mb_mod.prcp_fac,\n",
    "                    grad_type='cte', input_filesuffix='')"
   ]
  },
  {
   "cell_type": "code",
   "execution_count": 97,
   "id": "municipal-typing",
   "metadata": {},
   "outputs": [
    {
     "name": "stderr",
     "output_type": "stream",
     "text": [
      "/home/lilianschuster/micromamba/envs/oggm_pymc/lib/python3.9/site-packages/pymc/data.py:671: UserWarning: The `mutable` kwarg was not specified. Before v4.1.0 it defaulted to `pm.Data(mutable=True)`, which is equivalent to using `pm.MutableData()`. In v4.1.0 the default changed to `pm.Data(mutable=False)`, equivalent to `pm.ConstantData`. Use `pm.ConstantData`/`pm.MutableData` or pass `pm.Data(..., mutable=False/True)` to avoid this warning.\n",
      "  warnings.warn(\n",
      "Sampling: [melt_f, t_b]\n",
      "2022-10-24 16:41:31: pymc: Sampling: [melt_f, t_b]\n",
      "Multiprocess sampling (3 chains in 3 jobs)\n",
      "2022-10-24 16:41:34: pymc: Multiprocess sampling (3 chains in 3 jobs)\n",
      "CompoundStep\n",
      "2022-10-24 16:41:34: pymc: CompoundStep\n",
      ">Slice: [t_b]\n",
      "2022-10-24 16:41:34: pymc: >Slice: [t_b]\n",
      ">Slice: [melt_f]\n",
      "2022-10-24 16:41:34: pymc: >Slice: [melt_f]\n"
     ]
    },
    {
     "data": {
      "text/html": [
       "\n",
       "<style>\n",
       "    /* Turns off some styling */\n",
       "    progress {\n",
       "        /* gets rid of default border in Firefox and Opera. */\n",
       "        border: none;\n",
       "        /* Needs to be in here for Safari polyfill so background images work as expected. */\n",
       "        background-size: auto;\n",
       "    }\n",
       "    progress:not([value]), progress:not([value])::-webkit-progress-bar {\n",
       "        background: repeating-linear-gradient(45deg, #7e7e7e, #7e7e7e 10px, #5c5c5c 10px, #5c5c5c 20px);\n",
       "    }\n",
       "    .progress-bar-interrupted, .progress-bar-interrupted::-webkit-progress-bar {\n",
       "        background: #F44336;\n",
       "    }\n",
       "</style>\n"
      ],
      "text/plain": [
       "<IPython.core.display.HTML object>"
      ]
     },
     "metadata": {},
     "output_type": "display_data"
    },
    {
     "data": {
      "text/html": [
       "\n",
       "    <div>\n",
       "      <progress value='0' class='' max='18000' style='width:300px; height:20px; vertical-align: middle;'></progress>\n",
       "      0.00% [0/18000 00:00&lt;? Sampling 3 chains, 0 divergences]\n",
       "    </div>\n",
       "    "
      ],
      "text/plain": [
       "<IPython.core.display.HTML object>"
      ]
     },
     "metadata": {},
     "output_type": "display_data"
    },
    {
     "name": "stderr",
     "output_type": "stream",
     "text": [
      "\n",
      "KeyboardInterrupt\n",
      "\n"
     ]
    }
   ],
   "source": [
    "### dummy simplified model (here temp. b = 0), but the concept would be similar\n",
    "# see PhD/GP/dummy_pymc3.ipynb\n",
    "\n",
    "# max. of specific MB until actually entire glacier melts away\n",
    "max_allowed_specificMB = -100000\n",
    "random_seed = 42\n",
    "\n",
    "ityp_l = [at.dscalar, at.dscalar]\n",
    "otyp = at.dscalar\n",
    "\n",
    "# does not work because there is utils.clip inside which does somewhere > or < \n",
    "# that is not compatible with aeasara\n",
    "@aesara.compile.ops.as_op(itypes=ityp_l, otypes=[otyp])\n",
    "def get_spec_avg_mb(melt_f,t_b): #mb_mod, hgts, widths \n",
    "    mb_mod.mu_star = melt_f\n",
    "    mb_mod.temp_bias = t_b\n",
    "    spec_mb = mb_mod.get_specific_mb(heights=hgts, widths=widths,\n",
    "                                     year=np.arange(2000, 2020, 1))\n",
    "    return np.array(spec_mb.mean())\n",
    "\n",
    "\n",
    "with pm.Model() as model: \n",
    "    # Define priors\n",
    "    # recommended statistically --> intrinsic scatter of model fit\n",
    "    # std. of geodetic observations (only works because I have only one observation!!!)\n",
    "    sigma = pm.Data('sigma', [171])  # pm.HalfNormal(\"sigma\", sd=5)  \n",
    "    \n",
    "    t_b = pm.TruncatedNormal('t_b', mu=0, sigma=2,\n",
    "                            lower=-8, upper=8)\n",
    "    melt_f = pm.TruncatedNormal('melt_f',\n",
    "                                mu=250,\n",
    "                                sigma=200,\n",
    "                                lower=1, upper=1000)\n",
    "    \n",
    "    # model fit\n",
    "    #aet_slope_melt_fs = pm.Data('aet_slope_melt_fs',\n",
    "    #                                        [np.array(slope_melt_f).mean()])\n",
    "    #aet_slope_pfs = pm.Data('aet_slope_pfs',\n",
    "    #                                    [np.array(slope_pf).mean()])\n",
    "\n",
    "    # Define model specification\n",
    "    #mu = melt_f*aet_slope_melt_fs + pf*aet_slope_pfs\n",
    "\n",
    "    mu = get_spec_avg_mb(melt_f,t_b)\n",
    "    # geodetic observations\n",
    "    observed = pm.Data('observed', [-1210]) # for Aletsch glacier\n",
    "    max_allowed_specificMB_pm = pm.Data('max_allowed_specificMB', [max_allowed_specificMB])\n",
    "\n",
    "    prior = pm.sample_prior_predictive(random_seed=random_seed, #cores=cores,\n",
    "                                           samples=1000)  # , keep_size = True)\n",
    "    \n",
    "    # Fit likelihood * prior\n",
    "    posterior = pm.TruncatedNormal(\"posterior\", \n",
    "                                   mu = get_spec_avg_mb(melt_f, t_b),\n",
    "                                   #mu = mu,\n",
    "                                   sigma=sigma,\n",
    "                                   observed=observed, \n",
    "                                   lower = max_allowed_specificMB) #max_allowed_specificMB_pm)\n",
    "\n",
    "    \n",
    "    # Inference!\n",
    "    #step = pm.CompoundStep([pm.Metropolis(melt_f), pm.Metropolis(t_b)])\n",
    "    #start = pm.find_MAP()\n",
    "    #trace = pm.sample(mcmc_sample_no, chains=n_chains) #, step = step )\n",
    "    trace = pm.sample(5000, cores=3, return_inferencedata=True) #, initvals=start)\n",
    "    #az.concat(trace, az.from_dict(posterior_predictive=ppc, prior=prior),\n",
    "    #                  inplace=True)\n",
    "    \n",
    "    # already 1000 per chain burnt\n",
    "    ppc = pm.sample_posterior_predictive(trace, #cores=cores,\n",
    "                                                 random_seed=random_seed,\n",
    "                                                 var_names=['posterior',\n",
    "                                                            't_b', 'melt_f',\n",
    "                                                            #'mu',\n",
    "                                                           ],\n",
    "                                                 keep_size=True)\n",
    "    "
   ]
  },
  {
   "cell_type": "code",
   "execution_count": 17,
   "id": "polyphonic-matter",
   "metadata": {},
   "outputs": [],
   "source": [
    "import aesara.tensor as at\n",
    "# from: https://www.pymc.io/projects/examples/en/latest/case_studies/blackbox_external_likelihood_numpy.html?highlight=black%20box\n",
    "# define a aesara Op for our likelihood function\n",
    "class LogLike(at.Op):\n",
    "\n",
    "    \"\"\"\n",
    "    Specify what type of object will be passed and returned to the Op when it is\n",
    "    called. In our case we will be passing it a vector of values (the parameters\n",
    "    that define our model) and returning a single \"scalar\" value (the\n",
    "    log-likelihood)\n",
    "    \"\"\"\n",
    "\n",
    "    itypes = [at.dvector]  # expects a vector of parameter values when called\n",
    "    otypes = [at.dscalar]  # outputs a single scalar value (the log likelihood)\n",
    "\n",
    "    def __init__(self, loglike, data, x, sigma):\n",
    "        \"\"\"\n",
    "        Initialise the Op with various things that our log-likelihood function\n",
    "        requires. Below are the things that are needed in this particular\n",
    "        example.\n",
    "\n",
    "        Parameters\n",
    "        ----------\n",
    "        loglike:\n",
    "            The log-likelihood (or whatever) function we've defined\n",
    "        data:\n",
    "            The \"observed\" data that our log-likelihood function takes in\n",
    "        x:\n",
    "            The dependent variable (aka 'x') that our model requires\n",
    "        sigma:\n",
    "            The noise standard deviation that our function requires.\n",
    "        \"\"\"\n",
    "\n",
    "        # add inputs as class attributes\n",
    "        self.likelihood = loglike\n",
    "        self.data = data\n",
    "        self.x = x\n",
    "        self.sigma = sigma\n",
    "\n",
    "    def perform(self, node, inputs, outputs):\n",
    "        # the method that is used when calling the Op\n",
    "        (theta,) = inputs  # this will contain my variables\n",
    "\n",
    "        # call the log-likelihood function\n",
    "        logl = self.likelihood(theta, self.x, self.data, self.sigma)\n",
    "\n",
    "        outputs[0][0] = np.array(logl)  # output the log-likelihood"
   ]
  },
  {
   "cell_type": "code",
   "execution_count": null,
   "id": "veterinary-promotion",
   "metadata": {},
   "outputs": [],
   "source": [
    "truemodel = my_mb_model([mtrue, ctrue], x)"
   ]
  },
  {
   "cell_type": "code",
   "execution_count": null,
   "id": "unique-annex",
   "metadata": {},
   "outputs": [],
   "source": [
    "rgi_id = 'RGI60-11.01450'\n",
    "\n",
    "pd_spec_mb = pd.read_csv(f'test_mb_{rgi_id}_fixed_pf.csv', index_col=[0])\n",
    "\n",
    "pd_spec_mb_test = pd.read_csv(f'test_mb_{rgi_id}_fixed_pf_test.csv', index_col=[0])\n",
    "\n",
    "import sklearn\n",
    "from sklearn.gaussian_process import GaussianProcessRegressor\n",
    "from sklearn.gaussian_process.kernels import RBF, ConstantKernel as C\n",
    "\n",
    "X_train = pd_spec_mb[['melt_f', 'temp_bias']].values\n",
    "X_test = pd_spec_mb_test[['melt_f', 'temp_bias']].values\n",
    "\n",
    "y_train = pd_spec_mb[['spec_mb_mean']].values\n",
    "y_test = pd_spec_mb_test[['spec_mb_mean']].values\n",
    "\n",
    "\n",
    "# Instantiate a Gaussian Process model\n",
    "#k1 = C(1.0, (1e-10, 1e10)) * RBF(10, (1e-10, 1e10))\n",
    "# if we use the default settings, get the following error message:\n",
    "# estimated length scale close to the length_scale bounds\n",
    "k1 = C(1.0, (1e-5, 1e5)) * RBF(100, (1e-5, 1e5))\n",
    "kernel = k1 #+ k2\n",
    "from sklearn.gaussian_process.kernels import DotProduct, WhiteKernel\n",
    "kernel = DotProduct() + DotProduct() +  WhiteKernel()\n",
    "gp = GaussianProcessRegressor(kernel=kernel, n_restarts_optimizer=9)\n",
    "\n",
    "# Fit to data using Maximum Likelihood Estimation of the parameters\n",
    "gp.fit(X_train, y_train)"
   ]
  },
  {
   "cell_type": "code",
   "execution_count": null,
   "id": "heated-validity",
   "metadata": {},
   "outputs": [],
   "source": []
  },
  {
   "cell_type": "code",
   "execution_count": null,
   "id": "accurate-precipitation",
   "metadata": {},
   "outputs": [],
   "source": []
  },
  {
   "cell_type": "code",
   "execution_count": 51,
   "id": "sweet-persian",
   "metadata": {},
   "outputs": [],
   "source": [
    "import matplotlib.pyplot as plt\n",
    "import numpy as np\n",
    "from sklearn import datasets, linear_model"
   ]
  },
  {
   "cell_type": "code",
   "execution_count": 52,
   "id": "brown-excellence",
   "metadata": {},
   "outputs": [],
   "source": [
    "# Create linear regression object\n",
    "regr = linear_model.LinearRegression()\n",
    "X_train = pd_spec_mb[['melt_f', 'temp_bias']].values\n",
    "X_test = pd_spec_mb_test[['melt_f', 'temp_bias']].values\n",
    "\n",
    "y_train = pd_spec_mb[['spec_mb_mean']].values\n",
    "# Train the model using the training sets\n",
    "regr.fit(X_train, y_train)\n",
    "\n",
    "y_test = pd_spec_mb_test[['spec_mb_mean']].values\n",
    "\n",
    "# Make predictions using the testing set\n",
    "y_test_pred = regr.predict(X_test)\n",
    "\n",
    "from sklearn.metrics import mean_squared_error, r2_score"
   ]
  },
  {
   "cell_type": "code",
   "execution_count": 53,
   "id": "quarterly-princess",
   "metadata": {},
   "outputs": [
    {
     "name": "stdout",
     "output_type": "stream",
     "text": [
      "Coefficients: \n",
      " [[  -24.81148802 -2181.14245842]]\n",
      "Mean squared error: 68166357.94\n",
      "Coefficient of determination: 0.76\n"
     ]
    }
   ],
   "source": [
    "# The coefficients\n",
    "print(\"Coefficients: \\n\", regr.coef_)\n",
    "# The mean squared error\n",
    "print(\"Mean squared error: %.2f\" % mean_squared_error(y_test, y_test_pred))\n",
    "# The coefficient of determination: 1 is perfect prediction\n",
    "print(\"Coefficient of determination: %.2f\" % r2_score(y_test, y_test_pred))"
   ]
  },
  {
   "cell_type": "code",
   "execution_count": 55,
   "id": "palestinian-combining",
   "metadata": {},
   "outputs": [
    {
     "ename": "ValueError",
     "evalue": "x and y must be the same size",
     "output_type": "error",
     "traceback": [
      "\u001b[0;31m---------------------------------------------------------------------------\u001b[0m",
      "\u001b[0;31mValueError\u001b[0m                                Traceback (most recent call last)",
      "\u001b[0;32m/tmp/ipykernel_51597/2225303139.py\u001b[0m in \u001b[0;36m<module>\u001b[0;34m\u001b[0m\n\u001b[1;32m      1\u001b[0m \u001b[0;31m# Plot outputs\u001b[0m\u001b[0;34m\u001b[0m\u001b[0;34m\u001b[0m\u001b[0;34m\u001b[0m\u001b[0m\n\u001b[0;32m----> 2\u001b[0;31m \u001b[0mplt\u001b[0m\u001b[0;34m.\u001b[0m\u001b[0mscatter\u001b[0m\u001b[0;34m(\u001b[0m\u001b[0mX_test\u001b[0m\u001b[0;34m,\u001b[0m \u001b[0my_test\u001b[0m\u001b[0;34m,\u001b[0m \u001b[0mcolor\u001b[0m\u001b[0;34m=\u001b[0m\u001b[0;34m\"black\"\u001b[0m\u001b[0;34m)\u001b[0m\u001b[0;34m\u001b[0m\u001b[0;34m\u001b[0m\u001b[0m\n\u001b[0m\u001b[1;32m      3\u001b[0m \u001b[0;31m#plt.plot(, y_pred, color=\"blue\", linewidth=3)\u001b[0m\u001b[0;34m\u001b[0m\u001b[0;34m\u001b[0m\u001b[0;34m\u001b[0m\u001b[0m\n\u001b[1;32m      4\u001b[0m \u001b[0;34m\u001b[0m\u001b[0m\n\u001b[1;32m      5\u001b[0m \u001b[0mplt\u001b[0m\u001b[0;34m.\u001b[0m\u001b[0mxticks\u001b[0m\u001b[0;34m(\u001b[0m\u001b[0;34m(\u001b[0m\u001b[0;34m)\u001b[0m\u001b[0;34m)\u001b[0m\u001b[0;34m\u001b[0m\u001b[0;34m\u001b[0m\u001b[0m\n",
      "\u001b[0;32m~/anaconda3/envs/pymc3_oggm/lib/python3.9/site-packages/matplotlib/pyplot.py\u001b[0m in \u001b[0;36mscatter\u001b[0;34m(x, y, s, c, marker, cmap, norm, vmin, vmax, alpha, linewidths, edgecolors, plotnonfinite, data, **kwargs)\u001b[0m\n\u001b[1;32m   2805\u001b[0m         \u001b[0mvmin\u001b[0m\u001b[0;34m=\u001b[0m\u001b[0;32mNone\u001b[0m\u001b[0;34m,\u001b[0m \u001b[0mvmax\u001b[0m\u001b[0;34m=\u001b[0m\u001b[0;32mNone\u001b[0m\u001b[0;34m,\u001b[0m \u001b[0malpha\u001b[0m\u001b[0;34m=\u001b[0m\u001b[0;32mNone\u001b[0m\u001b[0;34m,\u001b[0m \u001b[0mlinewidths\u001b[0m\u001b[0;34m=\u001b[0m\u001b[0;32mNone\u001b[0m\u001b[0;34m,\u001b[0m \u001b[0;34m*\u001b[0m\u001b[0;34m,\u001b[0m\u001b[0;34m\u001b[0m\u001b[0;34m\u001b[0m\u001b[0m\n\u001b[1;32m   2806\u001b[0m         edgecolors=None, plotnonfinite=False, data=None, **kwargs):\n\u001b[0;32m-> 2807\u001b[0;31m     __ret = gca().scatter(\n\u001b[0m\u001b[1;32m   2808\u001b[0m         \u001b[0mx\u001b[0m\u001b[0;34m,\u001b[0m \u001b[0my\u001b[0m\u001b[0;34m,\u001b[0m \u001b[0ms\u001b[0m\u001b[0;34m=\u001b[0m\u001b[0ms\u001b[0m\u001b[0;34m,\u001b[0m \u001b[0mc\u001b[0m\u001b[0;34m=\u001b[0m\u001b[0mc\u001b[0m\u001b[0;34m,\u001b[0m \u001b[0mmarker\u001b[0m\u001b[0;34m=\u001b[0m\u001b[0mmarker\u001b[0m\u001b[0;34m,\u001b[0m \u001b[0mcmap\u001b[0m\u001b[0;34m=\u001b[0m\u001b[0mcmap\u001b[0m\u001b[0;34m,\u001b[0m \u001b[0mnorm\u001b[0m\u001b[0;34m=\u001b[0m\u001b[0mnorm\u001b[0m\u001b[0;34m,\u001b[0m\u001b[0;34m\u001b[0m\u001b[0;34m\u001b[0m\u001b[0m\n\u001b[1;32m   2809\u001b[0m         \u001b[0mvmin\u001b[0m\u001b[0;34m=\u001b[0m\u001b[0mvmin\u001b[0m\u001b[0;34m,\u001b[0m \u001b[0mvmax\u001b[0m\u001b[0;34m=\u001b[0m\u001b[0mvmax\u001b[0m\u001b[0;34m,\u001b[0m \u001b[0malpha\u001b[0m\u001b[0;34m=\u001b[0m\u001b[0malpha\u001b[0m\u001b[0;34m,\u001b[0m \u001b[0mlinewidths\u001b[0m\u001b[0;34m=\u001b[0m\u001b[0mlinewidths\u001b[0m\u001b[0;34m,\u001b[0m\u001b[0;34m\u001b[0m\u001b[0;34m\u001b[0m\u001b[0m\n",
      "\u001b[0;32m~/anaconda3/envs/pymc3_oggm/lib/python3.9/site-packages/matplotlib/__init__.py\u001b[0m in \u001b[0;36minner\u001b[0;34m(ax, data, *args, **kwargs)\u001b[0m\n\u001b[1;32m   1410\u001b[0m     \u001b[0;32mdef\u001b[0m \u001b[0minner\u001b[0m\u001b[0;34m(\u001b[0m\u001b[0max\u001b[0m\u001b[0;34m,\u001b[0m \u001b[0;34m*\u001b[0m\u001b[0margs\u001b[0m\u001b[0;34m,\u001b[0m \u001b[0mdata\u001b[0m\u001b[0;34m=\u001b[0m\u001b[0;32mNone\u001b[0m\u001b[0;34m,\u001b[0m \u001b[0;34m**\u001b[0m\u001b[0mkwargs\u001b[0m\u001b[0;34m)\u001b[0m\u001b[0;34m:\u001b[0m\u001b[0;34m\u001b[0m\u001b[0;34m\u001b[0m\u001b[0m\n\u001b[1;32m   1411\u001b[0m         \u001b[0;32mif\u001b[0m \u001b[0mdata\u001b[0m \u001b[0;32mis\u001b[0m \u001b[0;32mNone\u001b[0m\u001b[0;34m:\u001b[0m\u001b[0;34m\u001b[0m\u001b[0;34m\u001b[0m\u001b[0m\n\u001b[0;32m-> 1412\u001b[0;31m             \u001b[0;32mreturn\u001b[0m \u001b[0mfunc\u001b[0m\u001b[0;34m(\u001b[0m\u001b[0max\u001b[0m\u001b[0;34m,\u001b[0m \u001b[0;34m*\u001b[0m\u001b[0mmap\u001b[0m\u001b[0;34m(\u001b[0m\u001b[0msanitize_sequence\u001b[0m\u001b[0;34m,\u001b[0m \u001b[0margs\u001b[0m\u001b[0;34m)\u001b[0m\u001b[0;34m,\u001b[0m \u001b[0;34m**\u001b[0m\u001b[0mkwargs\u001b[0m\u001b[0;34m)\u001b[0m\u001b[0;34m\u001b[0m\u001b[0;34m\u001b[0m\u001b[0m\n\u001b[0m\u001b[1;32m   1413\u001b[0m \u001b[0;34m\u001b[0m\u001b[0m\n\u001b[1;32m   1414\u001b[0m         \u001b[0mbound\u001b[0m \u001b[0;34m=\u001b[0m \u001b[0mnew_sig\u001b[0m\u001b[0;34m.\u001b[0m\u001b[0mbind\u001b[0m\u001b[0;34m(\u001b[0m\u001b[0max\u001b[0m\u001b[0;34m,\u001b[0m \u001b[0;34m*\u001b[0m\u001b[0margs\u001b[0m\u001b[0;34m,\u001b[0m \u001b[0;34m**\u001b[0m\u001b[0mkwargs\u001b[0m\u001b[0;34m)\u001b[0m\u001b[0;34m\u001b[0m\u001b[0;34m\u001b[0m\u001b[0m\n",
      "\u001b[0;32m~/anaconda3/envs/pymc3_oggm/lib/python3.9/site-packages/matplotlib/axes/_axes.py\u001b[0m in \u001b[0;36mscatter\u001b[0;34m(self, x, y, s, c, marker, cmap, norm, vmin, vmax, alpha, linewidths, edgecolors, plotnonfinite, **kwargs)\u001b[0m\n\u001b[1;32m   4367\u001b[0m         \u001b[0my\u001b[0m \u001b[0;34m=\u001b[0m \u001b[0mnp\u001b[0m\u001b[0;34m.\u001b[0m\u001b[0mma\u001b[0m\u001b[0;34m.\u001b[0m\u001b[0mravel\u001b[0m\u001b[0;34m(\u001b[0m\u001b[0my\u001b[0m\u001b[0;34m)\u001b[0m\u001b[0;34m\u001b[0m\u001b[0;34m\u001b[0m\u001b[0m\n\u001b[1;32m   4368\u001b[0m         \u001b[0;32mif\u001b[0m \u001b[0mx\u001b[0m\u001b[0;34m.\u001b[0m\u001b[0msize\u001b[0m \u001b[0;34m!=\u001b[0m \u001b[0my\u001b[0m\u001b[0;34m.\u001b[0m\u001b[0msize\u001b[0m\u001b[0;34m:\u001b[0m\u001b[0;34m\u001b[0m\u001b[0;34m\u001b[0m\u001b[0m\n\u001b[0;32m-> 4369\u001b[0;31m             \u001b[0;32mraise\u001b[0m \u001b[0mValueError\u001b[0m\u001b[0;34m(\u001b[0m\u001b[0;34m\"x and y must be the same size\"\u001b[0m\u001b[0;34m)\u001b[0m\u001b[0;34m\u001b[0m\u001b[0;34m\u001b[0m\u001b[0m\n\u001b[0m\u001b[1;32m   4370\u001b[0m \u001b[0;34m\u001b[0m\u001b[0m\n\u001b[1;32m   4371\u001b[0m         \u001b[0;32mif\u001b[0m \u001b[0ms\u001b[0m \u001b[0;32mis\u001b[0m \u001b[0;32mNone\u001b[0m\u001b[0;34m:\u001b[0m\u001b[0;34m\u001b[0m\u001b[0;34m\u001b[0m\u001b[0m\n",
      "\u001b[0;31mValueError\u001b[0m: x and y must be the same size"
     ]
    },
    {
     "data": {
      "image/png": "[encoded data removed]",
      "text/plain": [
       "<Figure size 432x288 with 1 Axes>"
      ]
     },
     "metadata": {
      "needs_background": "light"
     },
     "output_type": "display_data"
    }
   ],
   "source": [
    "\n",
    "\n",
    "# Plot outputs\n",
    "plt.scatter(X_test, y_test, color=\"black\")\n",
    "#plt.plot(, y_pred, color=\"blue\", linewidth=3)\n",
    "\n",
    "plt.xticks(())\n",
    "plt.yticks(())\n",
    "\n",
    "plt.show()"
   ]
  },
  {
   "cell_type": "code",
   "execution_count": 27,
   "id": "grateful-domestic",
   "metadata": {},
   "outputs": [
    {
     "data": {
      "image/png": "[encoded data removed]",
      "text/plain": [
       "<Figure size 432x288 with 1 Axes>"
      ]
     },
     "metadata": {
      "needs_background": "light"
     },
     "output_type": "display_data"
    }
   ],
   "source": [
    "for melt_f in np.arange(10,1000, 50):\n",
    "    sel = pd_spec_mb.loc[pd_spec_mb.melt_f == melt_f]\n",
    "    plt.plot(sel['temp_bias'], sel['spec_mb_mean'])"
   ]
  },
  {
   "cell_type": "code",
   "execution_count": 25,
   "id": "sticky-uncertainty",
   "metadata": {},
   "outputs": [
    {
     "data": {
      "text/plain": [
       "[<matplotlib.lines.Line2D at 0x7f5851c47a90>]"
      ]
     },
     "execution_count": 25,
     "metadata": {},
     "output_type": "execute_result"
    },
    {
     "data": {
      "image/png": "[encoded data removed]",
      "text/plain": [
       "<Figure size 432x288 with 1 Axes>"
      ]
     },
     "metadata": {
      "needs_background": "light"
     },
     "output_type": "display_data"
    }
   ],
   "source": [
    "plt.plot(pd_spec_mb['melt_f'], pd_spec_mb['spec_mb_mean'], '.')"
   ]
  },
  {
   "cell_type": "code",
   "execution_count": 24,
   "id": "annoying-startup",
   "metadata": {},
   "outputs": [
    {
     "data": {
      "text/plain": [
       "[<matplotlib.lines.Line2D at 0x7f5850a4c4c0>]"
      ]
     },
     "execution_count": 24,
     "metadata": {},
     "output_type": "execute_result"
    },
    {
     "data": {
      "image/png": "[encoded data removed]",
      "text/plain": [
       "<Figure size 432x288 with 1 Axes>"
      ]
     },
     "metadata": {
      "needs_background": "light"
     },
     "output_type": "display_data"
    }
   ],
   "source": [
    "plt.plot(pd_spec_mb['temp_bias'], pd_spec_mb['spec_mb_mean'], '.')"
   ]
  },
  {
   "cell_type": "code",
   "execution_count": 7,
   "id": "recorded-marsh",
   "metadata": {},
   "outputs": [
    {
     "ename": "NameError",
     "evalue": "name 'gd' is not defined",
     "output_type": "error",
     "traceback": [
      "\u001b[0;31m---------------------------------------------------------------------------\u001b[0m",
      "\u001b[0;31mNameError\u001b[0m                                 Traceback (most recent call last)",
      "Cell \u001b[0;32mIn [7], line 7\u001b[0m\n\u001b[1;32m      4\u001b[0m dV \u001b[38;5;241m=\u001b[39m pd\u001b[38;5;241m.\u001b[39mread_hdf(utils\u001b[38;5;241m.\u001b[39mget_demo_file(\u001b[38;5;124m'\u001b[39m\u001b[38;5;124mrgi62_itmix_df.h5\u001b[39m\u001b[38;5;124m'\u001b[39m))\n\u001b[1;32m      6\u001b[0m \u001b[38;5;66;03m# for potential restricting total ice melt\u001b[39;00m\n\u001b[0;32m----> 7\u001b[0m V_gd_m3 \u001b[38;5;241m=\u001b[39m dV\u001b[38;5;241m.\u001b[39mloc[\u001b[43mgd\u001b[49m\u001b[38;5;241m.\u001b[39mrgi_id][\u001b[38;5;124m'\u001b[39m\u001b[38;5;124mvol_itmix_m3\u001b[39m\u001b[38;5;124m'\u001b[39m]  \u001b[38;5;66;03m# m3 volume of HEF\u001b[39;00m\n\u001b[1;32m      8\u001b[0m total_mass_gd \u001b[38;5;241m=\u001b[39m V_gd_m3 \u001b[38;5;241m*\u001b[39m rho_geodetic\n\u001b[1;32m      9\u001b[0m \u001b[38;5;66;03m# this is the area from 2000, could use another estimate (e.g. mean between 2000 and 2020...)\u001b[39;00m\n",
      "\u001b[0;31mNameError\u001b[0m: name 'gd' is not defined"
     ]
    }
   ],
   "source": [
    "rho_geodetic = 850\n",
    "\n",
    "# get volume estimates\n",
    "dV = pd.read_hdf(utils.get_demo_file('rgi62_itmix_df.h5'))\n",
    "\n",
    "# for potential restricting total ice melt\n",
    "V_gd_m3 = dV.loc[gd.rgi_id]['vol_itmix_m3']  # m3 volume of HEF\n",
    "total_mass_gd = V_gd_m3 * rho_geodetic\n",
    "# this is the area from 2000, could use another estimate (e.g. mean between 2000 and 2020...)\n",
    "gd_area = pd_geodetic_loc.loc[gd.rgi_id]['area']  # in m2 now !!!\n",
    "# convert kg --> kg/km2\n",
    "max_allowed_specificMB = - total_mass_gd / gd_area\n",
    "\n",
    "h, w = gd.get_inversion_flowline_hw()\n",
    "if mb_type != 'mb_real_daily':\n",
    "    cfg.PARAMS['baseline_climate'] = 'ERA5dr'\n",
    "    oggm.shop.ecmwf.process_ecmwf_data(gd, dataset='ERA5dr')\n",
    "else:\n",
    "    cfg.PARAMS['baseline_climate'] = 'ERA5_daily'\n",
    "    process_era5_daily_data(gd)\n",
    "\n",
    "ref_df = gd.get_ref_mb_data()\n",
    "\n",
    "# at instantiation use prcp_fac = 2.5, change this in def_get_mb later on\n",
    "gd_mb = TIModel(gd, 150, mb_type=mb_type, N=100, prcp_fac=2.5,\n",
    "                grad_type=grad_type)"
   ]
  },
  {
   "cell_type": "code",
   "execution_count": null,
   "id": "liable-ottawa",
   "metadata": {},
   "outputs": [],
   "source": []
  },
  {
   "cell_type": "code",
   "execution_count": null,
   "id": "moving-miniature",
   "metadata": {},
   "outputs": [],
   "source": []
  },
  {
   "cell_type": "code",
   "execution_count": null,
   "id": "visible-chair",
   "metadata": {},
   "outputs": [],
   "source": [
    "bayes_calib_geod_direct."
   ]
  }
 ],
 "metadata": {
  "kernelspec": {
   "display_name": "oggm_pymc",
   "language": "python",
   "name": "oggm_pymc"
  },
  "language_info": {
   "codemirror_mode": {
    "name": "ipython",
    "version": 3
   },
   "file_extension": ".py",
   "mimetype": "text/x-python",
   "name": "python",
   "nbconvert_exporter": "python",
   "pygments_lexer": "ipython3",
   "version": "3.9.13"
  }
 },
 "nbformat": 4,
 "nbformat_minor": 5
}
