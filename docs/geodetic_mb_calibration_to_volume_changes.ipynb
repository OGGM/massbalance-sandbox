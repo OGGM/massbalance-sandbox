{
 "cells": [
  {
   "cell_type": "markdown",
   "id": "d8220731",
   "metadata": {},
   "source": [
    "# Workflow to calibrate OGGM with geodetic data and run volume projections with your own climate dataset!"
   ]
  },
  {
   "cell_type": "markdown",
   "id": "88e77fcf",
   "metadata": {},
   "source": [
    "- We basically do what `run_prepro_levels` of prepro_levels.py (->link) would do if `start_level=2` and if we use `match_geodetic_mb_per_glacier=True`\n",
    "- here we use the W5E5 climate and a special glacier-specific precipitation factor"
   ]
  },
  {
   "cell_type": "code",
   "execution_count": 1,
   "id": "50ba627d",
   "metadata": {},
   "outputs": [
    {
     "name": "stderr",
     "output_type": "stream",
     "text": [
      "/home/lilianschuster/oggm/oggm/cfg.py:386: FutureWarning: In future versions of OGGM, the logging config WORKFLOW will no longer print ERROR or WARNING messages, but only high level information (i.e. hiding potential errors in your code but also avoiding cluttered log files for runs with many expected errors, e.g. global runs). If you want to obtain a similar logger behavior as before, set `logging_level='WARNING'`, which will print high level info as well as errors and warnings during the run. If you want to use the new behavior and suppress this warning, set `logging_level='WORKFLOW'` and `future=True`.\n",
      "  warnings.warn(msg, category=FutureWarning)\n",
      "2022-05-17 18:49:17: oggm.cfg: Reading default parameters from the OGGM `params.cfg` configuration file.\n",
      "2022-05-17 18:49:17: oggm.cfg: Multiprocessing switched OFF according to the parameter file.\n",
      "2022-05-17 18:49:17: oggm.cfg: Multiprocessing: using all available processors (N=8)\n"
     ]
    }
   ],
   "source": [
    "import numpy as np\n",
    "import pandas as pd\n",
    "import xarray as xr\n",
    "\n",
    "import matplotlib.pyplot as plt\n",
    "import matplotlib\n",
    "\n",
    "import statsmodels as stats\n",
    "import scipy\n",
    "import scipy.stats as stats\n",
    "import os\n",
    "import oggm\n",
    "from oggm import cfg, utils, workflow, tasks, graphics\n",
    "from oggm.core import massbalance, flowline\n",
    "\n",
    "cfg.initialize(logging_level='WORKFLOW')\n",
    "work_dir = utils.gettempdir(dirname='OGGM-geodetic_calib')\n",
    "cfg.PATHS['working_dir'] = work_dir\n",
    "sum_dir = work_dir \n",
    "base_url = ('https://cluster.klima.uni-bremen.de/~oggm/gdirs/oggm_v1.4/'\n",
    "            'L1-L2_files/elev_bands')"
   ]
  },
  {
   "cell_type": "markdown",
   "id": "39731520",
   "metadata": {},
   "source": [
    "### 1. Initialize gdir and process your climate data"
   ]
  },
  {
   "cell_type": "code",
   "execution_count": 2,
   "id": "0065e265",
   "metadata": {},
   "outputs": [
    {
     "name": "stderr",
     "output_type": "stream",
     "text": [
      "2022-05-17 18:49:17: oggm.cfg: PARAMS['baseline_climate'] changed from `CRU` to `GSWP3_W5E5`.\n",
      "2022-05-17 18:49:17: oggm.cfg: PARAMS['climate_qc_months'] changed from `3` to `0`.\n",
      "2022-05-17 18:49:17: oggm.cfg: PARAMS['hydro_month_nh'] changed from `10` to `1`.\n",
      "2022-05-17 18:49:17: oggm.cfg: PARAMS['hydro_month_sh'] changed from `4` to `1`.\n"
     ]
    }
   ],
   "source": [
    "cfg.PARAMS['baseline_climate'] = 'GSWP3_W5E5'  # or W5E5 (if you just want data from 1979 onwards!)\n",
    "\n",
    "match_geodetic_mb_per_glacier = True\n",
    "cfg.PARAMS['climate_qc_months'] = 0\n",
    "cfg.PARAMS['hydro_month_nh'] = 1\n",
    "cfg.PARAMS['hydro_month_sh'] = 1"
   ]
  },
  {
   "cell_type": "code",
   "execution_count": 3,
   "id": "192e1b6f",
   "metadata": {},
   "outputs": [
    {
     "name": "stderr",
     "output_type": "stream",
     "text": [
      "2022-05-17 18:49:18: oggm.workflow: init_glacier_directories from prepro level 2 on 2 glaciers.\n",
      "2022-05-17 18:49:18: oggm.workflow: Execute entity tasks [gdir_from_prepro] on 2 glaciers\n",
      "2022-05-17 18:49:18: oggm.workflow: Execute entity tasks [process_climate_data] on 2 glaciers\n"
     ]
    },
    {
     "data": {
      "text/plain": [
       "[None, None]"
      ]
     },
     "execution_count": 3,
     "metadata": {},
     "output_type": "execute_result"
    }
   ],
   "source": [
    "df = ['RGI60-11.00897','RGI60-11.01450']\n",
    "gdirs = workflow.init_glacier_directories(df, from_prepro_level=2,\n",
    "                                          prepro_border=10,\n",
    "                                          prepro_base_url=base_url,\n",
    "                                          prepro_rgi_version='62')\n",
    "#gdir = gdirs[0]\n",
    "workflow.execute_entity_task(tasks.process_climate_data, gdirs)\n",
    "# could also use instead directly \n",
    "# workflow.execute_entity_task(oggm.shop.w5e5.process_gswp3_w5e5_data, gdirs)\n"
   ]
  },
  {
   "cell_type": "markdown",
   "id": "c3810d27",
   "metadata": {},
   "source": [
    "### 2. calibrate MB model of OGGM with geodetic estimates from Hugonnet et al. (2021)"
   ]
  },
  {
   "cell_type": "code",
   "execution_count": 4,
   "id": "0a436f79",
   "metadata": {},
   "outputs": [
    {
     "data": {
      "text/plain": [
       "-1.0"
      ]
     },
     "execution_count": 4,
     "metadata": {},
     "output_type": "execute_result"
    }
   ],
   "source": [
    "cfg.PARAMS['temp_melt']"
   ]
  },
  {
   "cell_type": "code",
   "execution_count": 9,
   "id": "08906753",
   "metadata": {},
   "outputs": [
    {
     "data": {
      "text/plain": [
       "2.5"
      ]
     },
     "execution_count": 9,
     "metadata": {},
     "output_type": "execute_result"
    }
   ],
   "source": [
    "cfg.PARAMS['prcp_scaling_factor']  # could change it to : 'from_winter_prcp'  to make that clearer?!"
   ]
  },
  {
   "cell_type": "code",
   "execution_count": 10,
   "id": "d695d93e",
   "metadata": {},
   "outputs": [
    {
     "data": {
      "text/plain": [
       "0.0"
      ]
     },
     "execution_count": 10,
     "metadata": {},
     "output_type": "execute_result"
    }
   ],
   "source": [
    "cfg.PARAMS['temp_all_solid']"
   ]
  },
  {
   "cell_type": "code",
   "execution_count": 11,
   "id": "ea82b371",
   "metadata": {},
   "outputs": [
    {
     "data": {
      "text/plain": [
       "2.0"
      ]
     },
     "execution_count": 11,
     "metadata": {},
     "output_type": "execute_result"
    }
   ],
   "source": [
    "cfg.PARAMS['temp_all_liq']"
   ]
  },
  {
   "cell_type": "code",
   "execution_count": 12,
   "id": "7c46bec0",
   "metadata": {},
   "outputs": [
    {
     "data": {
      "text/plain": [
       "-0.0065"
      ]
     },
     "execution_count": 12,
     "metadata": {},
     "output_type": "execute_result"
    }
   ],
   "source": [
    "cfg.PARAMS['temp_default_gradient']"
   ]
  },
  {
   "cell_type": "code",
   "execution_count": null,
   "id": "8f0a4550",
   "metadata": {},
   "outputs": [],
   "source": []
  },
  {
   "cell_type": "code",
   "execution_count": 13,
   "id": "fc5b3d7a",
   "metadata": {},
   "outputs": [
    {
     "name": "stderr",
     "output_type": "stream",
     "text": [
      "2022-05-17 18:49:34: oggm.cfg: PARAMS['max_mu_star'] changed from `10000.0` to `1000`.\n"
     ]
    },
    {
     "data": {
      "text/html": [
       "<div>\n",
       "<style scoped>\n",
       "    .dataframe tbody tr th:only-of-type {\n",
       "        vertical-align: middle;\n",
       "    }\n",
       "\n",
       "    .dataframe tbody tr th {\n",
       "        vertical-align: top;\n",
       "    }\n",
       "\n",
       "    .dataframe thead th {\n",
       "        text-align: right;\n",
       "    }\n",
       "</style>\n",
       "<table border=\"1\" class=\"dataframe\">\n",
       "  <thead>\n",
       "    <tr style=\"text-align: right;\">\n",
       "      <th></th>\n",
       "      <th>period</th>\n",
       "      <th>area</th>\n",
       "      <th>dmdtda</th>\n",
       "      <th>err_dmdtda</th>\n",
       "      <th>reg</th>\n",
       "      <th>is_cor</th>\n",
       "    </tr>\n",
       "    <tr>\n",
       "      <th>rgiid</th>\n",
       "      <th></th>\n",
       "      <th></th>\n",
       "      <th></th>\n",
       "      <th></th>\n",
       "      <th></th>\n",
       "      <th></th>\n",
       "    </tr>\n",
       "  </thead>\n",
       "  <tbody>\n",
       "    <tr>\n",
       "      <th>RGI60-01.00001</th>\n",
       "      <td>2000-01-01_2010-01-01</td>\n",
       "      <td>360000.0</td>\n",
       "      <td>0.021700</td>\n",
       "      <td>0.430000</td>\n",
       "      <td>1</td>\n",
       "      <td>False</td>\n",
       "    </tr>\n",
       "    <tr>\n",
       "      <th>RGI60-01.00001</th>\n",
       "      <td>2000-01-01_2020-01-01</td>\n",
       "      <td>360000.0</td>\n",
       "      <td>-0.012800</td>\n",
       "      <td>0.217600</td>\n",
       "      <td>1</td>\n",
       "      <td>False</td>\n",
       "    </tr>\n",
       "    <tr>\n",
       "      <th>RGI60-01.00001</th>\n",
       "      <td>2010-01-01_2020-01-01</td>\n",
       "      <td>360000.0</td>\n",
       "      <td>-0.047200</td>\n",
       "      <td>0.394900</td>\n",
       "      <td>1</td>\n",
       "      <td>False</td>\n",
       "    </tr>\n",
       "    <tr>\n",
       "      <th>RGI60-01.00002</th>\n",
       "      <td>2000-01-01_2010-01-01</td>\n",
       "      <td>558000.0</td>\n",
       "      <td>-0.168300</td>\n",
       "      <td>0.279200</td>\n",
       "      <td>1</td>\n",
       "      <td>False</td>\n",
       "    </tr>\n",
       "    <tr>\n",
       "      <th>RGI60-01.00002</th>\n",
       "      <td>2000-01-01_2020-01-01</td>\n",
       "      <td>558000.0</td>\n",
       "      <td>-0.229000</td>\n",
       "      <td>0.146000</td>\n",
       "      <td>1</td>\n",
       "      <td>False</td>\n",
       "    </tr>\n",
       "    <tr>\n",
       "      <th>...</th>\n",
       "      <td>...</td>\n",
       "      <td>...</td>\n",
       "      <td>...</td>\n",
       "      <td>...</td>\n",
       "      <td>...</td>\n",
       "      <td>...</td>\n",
       "    </tr>\n",
       "    <tr>\n",
       "      <th>RGI60-19.02751</th>\n",
       "      <td>2000-01-01_2020-01-01</td>\n",
       "      <td>11000.0</td>\n",
       "      <td>-0.136311</td>\n",
       "      <td>0.295265</td>\n",
       "      <td>19</td>\n",
       "      <td>True</td>\n",
       "    </tr>\n",
       "    <tr>\n",
       "      <th>RGI60-19.02751</th>\n",
       "      <td>2010-01-01_2020-01-01</td>\n",
       "      <td>11000.0</td>\n",
       "      <td>-0.119835</td>\n",
       "      <td>0.536447</td>\n",
       "      <td>19</td>\n",
       "      <td>True</td>\n",
       "    </tr>\n",
       "    <tr>\n",
       "      <th>RGI60-19.02752</th>\n",
       "      <td>2000-01-01_2010-01-01</td>\n",
       "      <td>528000.0</td>\n",
       "      <td>0.121300</td>\n",
       "      <td>0.542100</td>\n",
       "      <td>19</td>\n",
       "      <td>False</td>\n",
       "    </tr>\n",
       "    <tr>\n",
       "      <th>RGI60-19.02752</th>\n",
       "      <td>2000-01-01_2020-01-01</td>\n",
       "      <td>528000.0</td>\n",
       "      <td>-0.038600</td>\n",
       "      <td>0.289700</td>\n",
       "      <td>19</td>\n",
       "      <td>False</td>\n",
       "    </tr>\n",
       "    <tr>\n",
       "      <th>RGI60-19.02752</th>\n",
       "      <td>2010-01-01_2020-01-01</td>\n",
       "      <td>528000.0</td>\n",
       "      <td>-0.198500</td>\n",
       "      <td>0.481400</td>\n",
       "      <td>19</td>\n",
       "      <td>False</td>\n",
       "    </tr>\n",
       "  </tbody>\n",
       "</table>\n",
       "<p>646641 rows × 6 columns</p>\n",
       "</div>"
      ],
      "text/plain": [
       "                               period      area    dmdtda  err_dmdtda  reg  \\\n",
       "rgiid                                                                        \n",
       "RGI60-01.00001  2000-01-01_2010-01-01  360000.0  0.021700    0.430000    1   \n",
       "RGI60-01.00001  2000-01-01_2020-01-01  360000.0 -0.012800    0.217600    1   \n",
       "RGI60-01.00001  2010-01-01_2020-01-01  360000.0 -0.047200    0.394900    1   \n",
       "RGI60-01.00002  2000-01-01_2010-01-01  558000.0 -0.168300    0.279200    1   \n",
       "RGI60-01.00002  2000-01-01_2020-01-01  558000.0 -0.229000    0.146000    1   \n",
       "...                               ...       ...       ...         ...  ...   \n",
       "RGI60-19.02751  2000-01-01_2020-01-01   11000.0 -0.136311    0.295265   19   \n",
       "RGI60-19.02751  2010-01-01_2020-01-01   11000.0 -0.119835    0.536447   19   \n",
       "RGI60-19.02752  2000-01-01_2010-01-01  528000.0  0.121300    0.542100   19   \n",
       "RGI60-19.02752  2000-01-01_2020-01-01  528000.0 -0.038600    0.289700   19   \n",
       "RGI60-19.02752  2010-01-01_2020-01-01  528000.0 -0.198500    0.481400   19   \n",
       "\n",
       "                is_cor  \n",
       "rgiid                   \n",
       "RGI60-01.00001   False  \n",
       "RGI60-01.00001   False  \n",
       "RGI60-01.00001   False  \n",
       "RGI60-01.00002   False  \n",
       "RGI60-01.00002   False  \n",
       "...                ...  \n",
       "RGI60-19.02751    True  \n",
       "RGI60-19.02751    True  \n",
       "RGI60-19.02752   False  \n",
       "RGI60-19.02752   False  \n",
       "RGI60-19.02752   False  \n",
       "\n",
       "[646641 rows x 6 columns]"
      ]
     },
     "execution_count": 13,
     "metadata": {},
     "output_type": "execute_result"
    }
   ],
   "source": [
    "# actually strange why this is still at 10000 per default even if it means that mu_star_calibration_from_geodetic_mb will not work, maybe change that default value???\n",
    "cfg.PARAMS['max_mu_star'] = 1000  \n",
    "# we do not need any climate check!\n",
    "cfg.PARAMS['climate_qc_months'] = 0\n",
    "utils.get_geodetic_mb_dataframe()  # Small optim to avoid concurrency\n"
   ]
  },
  {
   "cell_type": "code",
   "execution_count": 14,
   "id": "a202098b",
   "metadata": {},
   "outputs": [
    {
     "name": "stderr",
     "output_type": "stream",
     "text": [
      "2022-05-17 18:49:35: oggm.workflow: Execute entity tasks [mu_star_calibration_from_geodetic_mb] on 2 glaciers\n"
     ]
    },
    {
     "data": {
      "text/plain": [
       "[None, None]"
      ]
     },
     "execution_count": 14,
     "metadata": {},
     "output_type": "execute_result"
    }
   ],
   "source": [
    "# workflow.execute_entity_task(tasks.mu_star_calibration_from_geodetic_mb, gdirs)\n",
    "# Let's directly calibrate by using prcp. fac from winter prcp. match \n",
    "workflow.execute_entity_task(tasks.mu_star_calibration_from_geodetic_mb, gdirs, prcp_fac='from_winter_prcp')\n"
   ]
  },
  {
   "cell_type": "markdown",
   "id": "8b2f738b",
   "metadata": {},
   "source": [
    "**just to visualize what is applied internally in `mu_star_calibration_from_geodetic_mb` if using prcp_fac='from_winter_prcp'**"
   ]
  },
  {
   "cell_type": "code",
   "execution_count": 29,
   "id": "e7535062",
   "metadata": {},
   "outputs": [
    {
     "data": {
      "text/plain": [
       "<matplotlib.legend.Legend at 0x7f3cb44add90>"
      ]
     },
     "execution_count": 29,
     "metadata": {},
     "output_type": "execute_result"
    },
    {
     "data": {
      "image/png": "[encoded data removed]",
      "text/plain": [
       "<Figure size 432x288 with 1 Axes>"
      ]
     },
     "metadata": {
      "needs_background": "light"
     },
     "output_type": "display_data"
    }
   ],
   "source": [
    "# this is used inside of mu_star_calibration_from_geodetic_mb:\n",
    "# from MB sandbox calibration to winter MB\n",
    "# using t_melt=-1, cte lapse rate, monthly resolution\n",
    "a_log_multiplied = -1.0614\n",
    "b_intercept = 3.9200\n",
    "def log_func(x, a, b):\n",
    "    r = a*np.log(x) +b\n",
    "    # don't allow extremely low/high prcp. factors!!!\n",
    "    if np.shape(r) == ():\n",
    "        if r > 10:\n",
    "            r = 10\n",
    "        if r<0.1:\n",
    "            r=0.1\n",
    "    else:\n",
    "        r[r>10] = 10\n",
    "        r[r<0.1] = 0.1\n",
    "    return r\n",
    "\n",
    "winter_prcp_values = np.arange(0.1, 20,0.05)\n",
    "plt.plot(winter_prcp_values, log_func(winter_prcp_values, a_log_multiplied, b_intercept), label='fitted precipitation factor relation to winter\\nprecipitation (found from 115 reference\\nglaciers where winter MB was matched)')\n",
    "plt.ylabel('fitted precipitation factor')\n",
    "plt.xlabel('mean daily winter precipitation (kg m-2 day-1)') # mean over 1979-2020\n",
    "plt.legend()"
   ]
  },
  {
   "cell_type": "markdown",
   "id": "4faabb3d",
   "metadata": {},
   "source": [
    "**different prcp. factors were applied depending on the mean daily non-corrected winter prcp**"
   ]
  },
  {
   "cell_type": "code",
   "execution_count": 15,
   "id": "d9ad0006",
   "metadata": {},
   "outputs": [
    {
     "data": {
      "text/plain": [
       "{'rgi_id': 'RGI60-11.00897',\n",
       " 't_star': nan,\n",
       " 'bias': 0,\n",
       " 'mu_star_per_flowline': [275.602034813723],\n",
       " 'mu_star_glacierwide': 275.602034813723,\n",
       " 'mu_star_flowline_avg': 275.602034813723,\n",
       " 'mu_star_allsame': True,\n",
       " 'prcp_fac_from_winter_prcp': 3.357136316271367}"
      ]
     },
     "execution_count": 15,
     "metadata": {},
     "output_type": "execute_result"
    }
   ],
   "source": [
    "gdirs[0].read_json('local_mustar')"
   ]
  },
  {
   "cell_type": "code",
   "execution_count": 16,
   "id": "e791b7fb",
   "metadata": {},
   "outputs": [
    {
     "data": {
      "text/plain": [
       "{'rgi_id': 'RGI60-11.01450',\n",
       " 't_star': nan,\n",
       " 'bias': 0,\n",
       " 'mu_star_per_flowline': [303.6193835683732],\n",
       " 'mu_star_glacierwide': 303.6193835683732,\n",
       " 'mu_star_flowline_avg': 303.6193835683732,\n",
       " 'mu_star_allsame': True,\n",
       " 'prcp_fac_from_winter_prcp': 1.7765151972292408}"
      ]
     },
     "execution_count": 16,
     "metadata": {},
     "output_type": "execute_result"
    }
   ],
   "source": [
    "gdirs[-1].read_json('local_mustar')"
   ]
  },
  {
   "cell_type": "code",
   "execution_count": 21,
   "id": "a37553c1",
   "metadata": {},
   "outputs": [
    {
     "name": "stderr",
     "output_type": "stream",
     "text": [
      "2022-05-17 18:51:56: oggm.utils: Applying global task compile_climate_statistics on 2 glaciers\n",
      "2022-05-17 18:51:56: oggm.workflow: Execute entity tasks [climate_statistics] on 2 glaciers\n"
     ]
    },
    {
     "data": {
      "text/plain": [
       "rgi_id\n",
       "RGI60-11.00897    1.6994472904408453\n",
       "RGI60-11.01450     7.534467999810557\n",
       "Name: winter_daily_mean_prcp_1979_2019, dtype: object"
      ]
     },
     "execution_count": 21,
     "metadata": {},
     "output_type": "execute_result"
    }
   ],
   "source": [
    "# added winter_daily_mean_prcp_1979_2019\n",
    "clim_stats = utils.compile_climate_statistics(gdirs, winter_daily_mean_prcp=True)\n",
    "clim_stats['winter_daily_mean_prcp_1979_2019']  # maybe should call that _uncorrected ???"
   ]
  },
  {
   "cell_type": "code",
   "execution_count": 22,
   "id": "713b2690",
   "metadata": {},
   "outputs": [
    {
     "data": {
      "text/html": [
       "<div>\n",
       "<style scoped>\n",
       "    .dataframe tbody tr th:only-of-type {\n",
       "        vertical-align: middle;\n",
       "    }\n",
       "\n",
       "    .dataframe tbody tr th {\n",
       "        vertical-align: top;\n",
       "    }\n",
       "\n",
       "    .dataframe thead th {\n",
       "        text-align: right;\n",
       "    }\n",
       "</style>\n",
       "<table border=\"1\" class=\"dataframe\">\n",
       "  <thead>\n",
       "    <tr style=\"text-align: right;\">\n",
       "      <th>rgi_id</th>\n",
       "      <th>RGI60-11.00897</th>\n",
       "      <th>RGI60-11.01450</th>\n",
       "    </tr>\n",
       "  </thead>\n",
       "  <tbody>\n",
       "    <tr>\n",
       "      <th>rgi_region</th>\n",
       "      <td>11</td>\n",
       "      <td>11</td>\n",
       "    </tr>\n",
       "    <tr>\n",
       "      <th>rgi_subregion</th>\n",
       "      <td>11-01</td>\n",
       "      <td>11-01</td>\n",
       "    </tr>\n",
       "    <tr>\n",
       "      <th>name</th>\n",
       "      <td>Hintereisferner</td>\n",
       "      <td></td>\n",
       "    </tr>\n",
       "    <tr>\n",
       "      <th>cenlon</th>\n",
       "      <td>10.7584</td>\n",
       "      <td>8.01919</td>\n",
       "    </tr>\n",
       "    <tr>\n",
       "      <th>cenlat</th>\n",
       "      <td>46.8003</td>\n",
       "      <td>46.5028</td>\n",
       "    </tr>\n",
       "    <tr>\n",
       "      <th>rgi_area_km2</th>\n",
       "      <td>8.036</td>\n",
       "      <td>82.206</td>\n",
       "    </tr>\n",
       "    <tr>\n",
       "      <th>glacier_type</th>\n",
       "      <td>Glacier</td>\n",
       "      <td>Glacier</td>\n",
       "    </tr>\n",
       "    <tr>\n",
       "      <th>terminus_type</th>\n",
       "      <td>Land-terminating</td>\n",
       "      <td>Land-terminating</td>\n",
       "    </tr>\n",
       "    <tr>\n",
       "      <th>status</th>\n",
       "      <td>Glacier or ice cap</td>\n",
       "      <td>Glacier or ice cap</td>\n",
       "    </tr>\n",
       "    <tr>\n",
       "      <th>flowline_mean_elev</th>\n",
       "      <td>3026.878257</td>\n",
       "      <td>3075.263293</td>\n",
       "    </tr>\n",
       "    <tr>\n",
       "      <th>flowline_max_elev</th>\n",
       "      <td>3612.846072</td>\n",
       "      <td>3954.701667</td>\n",
       "    </tr>\n",
       "    <tr>\n",
       "      <th>flowline_min_elev</th>\n",
       "      <td>2455.169167</td>\n",
       "      <td>1718.526178</td>\n",
       "    </tr>\n",
       "    <tr>\n",
       "      <th>winter_daily_mean_prcp_1979_2019</th>\n",
       "      <td>1.6994472904408453</td>\n",
       "      <td>7.534467999810557</td>\n",
       "    </tr>\n",
       "    <tr>\n",
       "      <th>1980-2010_aar</th>\n",
       "      <td>0.514153</td>\n",
       "      <td>0.612994</td>\n",
       "    </tr>\n",
       "    <tr>\n",
       "      <th>1980-2010_mb_grad</th>\n",
       "      <td>9.526522</td>\n",
       "      <td>13.212507</td>\n",
       "    </tr>\n",
       "    <tr>\n",
       "      <th>1980-2010_ela_h</th>\n",
       "      <td>3046.417922</td>\n",
       "      <td>3006.469706</td>\n",
       "    </tr>\n",
       "    <tr>\n",
       "      <th>1980-2010_avg_temp_ela_h</th>\n",
       "      <td>-5.779841</td>\n",
       "      <td>-4.722549</td>\n",
       "    </tr>\n",
       "    <tr>\n",
       "      <th>1980-2010_avg_temp_mean_elev</th>\n",
       "      <td>-5.652834</td>\n",
       "      <td>-5.169708</td>\n",
       "    </tr>\n",
       "    <tr>\n",
       "      <th>1980-2010_avg_temp_max_elev</th>\n",
       "      <td>-9.461624</td>\n",
       "      <td>-10.886057</td>\n",
       "    </tr>\n",
       "    <tr>\n",
       "      <th>1980-2010_avg_temp_min_elev</th>\n",
       "      <td>-1.936724</td>\n",
       "      <td>3.649084</td>\n",
       "    </tr>\n",
       "    <tr>\n",
       "      <th>1980-2010_avg_tempmelt_ela_h</th>\n",
       "      <td>7.624674</td>\n",
       "      <td>12.354527</td>\n",
       "    </tr>\n",
       "    <tr>\n",
       "      <th>1980-2010_avg_tempmelt_mean_elev</th>\n",
       "      <td>8.040517</td>\n",
       "      <td>10.55039</td>\n",
       "    </tr>\n",
       "    <tr>\n",
       "      <th>1980-2010_avg_tempmelt_max_elev</th>\n",
       "      <td>0.557164</td>\n",
       "      <td>0.155585</td>\n",
       "    </tr>\n",
       "    <tr>\n",
       "      <th>1980-2010_avg_tempmelt_min_elev</th>\n",
       "      <td>25.076611</td>\n",
       "      <td>63.810977</td>\n",
       "    </tr>\n",
       "    <tr>\n",
       "      <th>1980-2010_avg_prcpsol_ela_h</th>\n",
       "      <td>2101.375745</td>\n",
       "      <td>3751.11978</td>\n",
       "    </tr>\n",
       "    <tr>\n",
       "      <th>1980-2010_avg_prcpsol_mean_elev</th>\n",
       "      <td>2069.482237</td>\n",
       "      <td>3852.069282</td>\n",
       "    </tr>\n",
       "    <tr>\n",
       "      <th>1980-2010_avg_prcpsol_max_elev</th>\n",
       "      <td>2650.837719</td>\n",
       "      <td>4622.010732</td>\n",
       "    </tr>\n",
       "    <tr>\n",
       "      <th>1980-2010_avg_prcpsol_min_elev</th>\n",
       "      <td>1346.537036</td>\n",
       "      <td>2005.218895</td>\n",
       "    </tr>\n",
       "    <tr>\n",
       "      <th>1980-2010_avg_prcp</th>\n",
       "      <td>2675.840543</td>\n",
       "      <td>4624.473092</td>\n",
       "    </tr>\n",
       "  </tbody>\n",
       "</table>\n",
       "</div>"
      ],
      "text/plain": [
       "rgi_id                                RGI60-11.00897      RGI60-11.01450\n",
       "rgi_region                                        11                  11\n",
       "rgi_subregion                                  11-01               11-01\n",
       "name                                 Hintereisferner                    \n",
       "cenlon                                       10.7584             8.01919\n",
       "cenlat                                       46.8003             46.5028\n",
       "rgi_area_km2                                   8.036              82.206\n",
       "glacier_type                                 Glacier             Glacier\n",
       "terminus_type                       Land-terminating    Land-terminating\n",
       "status                            Glacier or ice cap  Glacier or ice cap\n",
       "flowline_mean_elev                       3026.878257         3075.263293\n",
       "flowline_max_elev                        3612.846072         3954.701667\n",
       "flowline_min_elev                        2455.169167         1718.526178\n",
       "winter_daily_mean_prcp_1979_2019  1.6994472904408453   7.534467999810557\n",
       "1980-2010_aar                               0.514153            0.612994\n",
       "1980-2010_mb_grad                           9.526522           13.212507\n",
       "1980-2010_ela_h                          3046.417922         3006.469706\n",
       "1980-2010_avg_temp_ela_h                   -5.779841           -4.722549\n",
       "1980-2010_avg_temp_mean_elev               -5.652834           -5.169708\n",
       "1980-2010_avg_temp_max_elev                -9.461624          -10.886057\n",
       "1980-2010_avg_temp_min_elev                -1.936724            3.649084\n",
       "1980-2010_avg_tempmelt_ela_h                7.624674           12.354527\n",
       "1980-2010_avg_tempmelt_mean_elev            8.040517            10.55039\n",
       "1980-2010_avg_tempmelt_max_elev             0.557164            0.155585\n",
       "1980-2010_avg_tempmelt_min_elev            25.076611           63.810977\n",
       "1980-2010_avg_prcpsol_ela_h              2101.375745          3751.11978\n",
       "1980-2010_avg_prcpsol_mean_elev          2069.482237         3852.069282\n",
       "1980-2010_avg_prcpsol_max_elev           2650.837719         4622.010732\n",
       "1980-2010_avg_prcpsol_min_elev           1346.537036         2005.218895\n",
       "1980-2010_avg_prcp                       2675.840543         4624.473092"
      ]
     },
     "execution_count": 22,
     "metadata": {},
     "output_type": "execute_result"
    }
   ],
   "source": [
    "clim_stats.T"
   ]
  },
  {
   "cell_type": "code",
   "execution_count": 24,
   "id": "2ddffd0f",
   "metadata": {},
   "outputs": [
    {
     "name": "stderr",
     "output_type": "stream",
     "text": [
      "2022-05-17 18:52:21: oggm.utils: Applying global task compile_glacier_statistics on 2 glaciers\n",
      "2022-05-17 18:52:21: oggm.workflow: Execute entity tasks [glacier_statistics] on 2 glaciers\n"
     ]
    },
    {
     "data": {
      "text/html": [
       "<div>\n",
       "<style scoped>\n",
       "    .dataframe tbody tr th:only-of-type {\n",
       "        vertical-align: middle;\n",
       "    }\n",
       "\n",
       "    .dataframe tbody tr th {\n",
       "        vertical-align: top;\n",
       "    }\n",
       "\n",
       "    .dataframe thead th {\n",
       "        text-align: right;\n",
       "    }\n",
       "</style>\n",
       "<table border=\"1\" class=\"dataframe\">\n",
       "  <thead>\n",
       "    <tr style=\"text-align: right;\">\n",
       "      <th>rgi_id</th>\n",
       "      <th>RGI60-11.00897</th>\n",
       "      <th>RGI60-11.01450</th>\n",
       "    </tr>\n",
       "  </thead>\n",
       "  <tbody>\n",
       "    <tr>\n",
       "      <th>rgi_region</th>\n",
       "      <td>11</td>\n",
       "      <td>11</td>\n",
       "    </tr>\n",
       "    <tr>\n",
       "      <th>rgi_subregion</th>\n",
       "      <td>11-01</td>\n",
       "      <td>11-01</td>\n",
       "    </tr>\n",
       "    <tr>\n",
       "      <th>name</th>\n",
       "      <td>Hintereisferner</td>\n",
       "      <td></td>\n",
       "    </tr>\n",
       "    <tr>\n",
       "      <th>cenlon</th>\n",
       "      <td>10.7584</td>\n",
       "      <td>8.01919</td>\n",
       "    </tr>\n",
       "    <tr>\n",
       "      <th>cenlat</th>\n",
       "      <td>46.8003</td>\n",
       "      <td>46.5028</td>\n",
       "    </tr>\n",
       "    <tr>\n",
       "      <th>rgi_area_km2</th>\n",
       "      <td>8.036</td>\n",
       "      <td>82.206</td>\n",
       "    </tr>\n",
       "    <tr>\n",
       "      <th>rgi_year</th>\n",
       "      <td>2003</td>\n",
       "      <td>2003</td>\n",
       "    </tr>\n",
       "    <tr>\n",
       "      <th>glacier_type</th>\n",
       "      <td>Glacier</td>\n",
       "      <td>Glacier</td>\n",
       "    </tr>\n",
       "    <tr>\n",
       "      <th>terminus_type</th>\n",
       "      <td>Land-terminating</td>\n",
       "      <td>Land-terminating</td>\n",
       "    </tr>\n",
       "    <tr>\n",
       "      <th>is_tidewater</th>\n",
       "      <td>False</td>\n",
       "      <td>False</td>\n",
       "    </tr>\n",
       "    <tr>\n",
       "      <th>status</th>\n",
       "      <td>Glacier or ice cap</td>\n",
       "      <td>Glacier or ice cap</td>\n",
       "    </tr>\n",
       "    <tr>\n",
       "      <th>dem_source</th>\n",
       "      <td>NASADEM</td>\n",
       "      <td>NASADEM</td>\n",
       "    </tr>\n",
       "    <tr>\n",
       "      <th>flowline_type</th>\n",
       "      <td>elevation_band</td>\n",
       "      <td>elevation_band</td>\n",
       "    </tr>\n",
       "    <tr>\n",
       "      <th>error_task</th>\n",
       "      <td>None</td>\n",
       "      <td>None</td>\n",
       "    </tr>\n",
       "    <tr>\n",
       "      <th>error_msg</th>\n",
       "      <td>None</td>\n",
       "      <td>None</td>\n",
       "    </tr>\n",
       "    <tr>\n",
       "      <th>dem_mean_elev</th>\n",
       "      <td>3028.33252</td>\n",
       "      <td>3071.166992</td>\n",
       "    </tr>\n",
       "    <tr>\n",
       "      <th>dem_med_elev</th>\n",
       "      <td>3054.0</td>\n",
       "      <td>3164.0</td>\n",
       "    </tr>\n",
       "    <tr>\n",
       "      <th>dem_min_elev</th>\n",
       "      <td>2430.0</td>\n",
       "      <td>1627.0</td>\n",
       "    </tr>\n",
       "    <tr>\n",
       "      <th>dem_max_elev</th>\n",
       "      <td>3691.0</td>\n",
       "      <td>4089.0</td>\n",
       "    </tr>\n",
       "    <tr>\n",
       "      <th>dem_max_elev_on_ext</th>\n",
       "      <td>3672.0</td>\n",
       "      <td>4089.0</td>\n",
       "    </tr>\n",
       "    <tr>\n",
       "      <th>dem_min_elev_on_ext</th>\n",
       "      <td>2430.0</td>\n",
       "      <td>1627.0</td>\n",
       "    </tr>\n",
       "    <tr>\n",
       "      <th>dem_perc_area_above_max_elev_on_ext</th>\n",
       "      <td>0.002797</td>\n",
       "      <td>0.0</td>\n",
       "    </tr>\n",
       "    <tr>\n",
       "      <th>terminus_lon</th>\n",
       "      <td>10.802747</td>\n",
       "      <td>8.025083</td>\n",
       "    </tr>\n",
       "    <tr>\n",
       "      <th>terminus_lat</th>\n",
       "      <td>46.818901</td>\n",
       "      <td>46.397464</td>\n",
       "    </tr>\n",
       "    <tr>\n",
       "      <th>main_flowline_length</th>\n",
       "      <td>5600.0</td>\n",
       "      <td>18906.0</td>\n",
       "    </tr>\n",
       "    <tr>\n",
       "      <th>inv_flowline_glacier_area</th>\n",
       "      <td>8036000.0</td>\n",
       "      <td>82206000.0</td>\n",
       "    </tr>\n",
       "    <tr>\n",
       "      <th>flowline_mean_elev</th>\n",
       "      <td>3026.878257</td>\n",
       "      <td>3075.263293</td>\n",
       "    </tr>\n",
       "    <tr>\n",
       "      <th>flowline_max_elev</th>\n",
       "      <td>3612.846072</td>\n",
       "      <td>3954.701667</td>\n",
       "    </tr>\n",
       "    <tr>\n",
       "      <th>flowline_min_elev</th>\n",
       "      <td>2455.169167</td>\n",
       "      <td>1718.526178</td>\n",
       "    </tr>\n",
       "    <tr>\n",
       "      <th>flowline_avg_slope</th>\n",
       "      <td>0.20631</td>\n",
       "      <td>0.120696</td>\n",
       "    </tr>\n",
       "    <tr>\n",
       "      <th>flowline_avg_width</th>\n",
       "      <td>1435.0</td>\n",
       "      <td>4348.143447</td>\n",
       "    </tr>\n",
       "    <tr>\n",
       "      <th>flowline_last_width</th>\n",
       "      <td>142.480836</td>\n",
       "      <td>222.595202</td>\n",
       "    </tr>\n",
       "    <tr>\n",
       "      <th>flowline_last_5_widths</th>\n",
       "      <td>387.124644</td>\n",
       "      <td>650.920146</td>\n",
       "    </tr>\n",
       "    <tr>\n",
       "      <th>t_star</th>\n",
       "      <td>NaN</td>\n",
       "      <td>NaN</td>\n",
       "    </tr>\n",
       "    <tr>\n",
       "      <th>mu_star_glacierwide</th>\n",
       "      <td>275.602035</td>\n",
       "      <td>303.619384</td>\n",
       "    </tr>\n",
       "    <tr>\n",
       "      <th>mu_star_flowline_avg</th>\n",
       "      <td>275.602035</td>\n",
       "      <td>303.619384</td>\n",
       "    </tr>\n",
       "    <tr>\n",
       "      <th>mu_star_allsame</th>\n",
       "      <td>True</td>\n",
       "      <td>True</td>\n",
       "    </tr>\n",
       "    <tr>\n",
       "      <th>mb_bias</th>\n",
       "      <td>0</td>\n",
       "      <td>0</td>\n",
       "    </tr>\n",
       "    <tr>\n",
       "      <th>prcp_fac_from_winter_prcp</th>\n",
       "      <td>3.357136</td>\n",
       "      <td>1.776515</td>\n",
       "    </tr>\n",
       "  </tbody>\n",
       "</table>\n",
       "</div>"
      ],
      "text/plain": [
       "rgi_id                                   RGI60-11.00897      RGI60-11.01450\n",
       "rgi_region                                           11                  11\n",
       "rgi_subregion                                     11-01               11-01\n",
       "name                                    Hintereisferner                    \n",
       "cenlon                                          10.7584             8.01919\n",
       "cenlat                                          46.8003             46.5028\n",
       "rgi_area_km2                                      8.036              82.206\n",
       "rgi_year                                           2003                2003\n",
       "glacier_type                                    Glacier             Glacier\n",
       "terminus_type                          Land-terminating    Land-terminating\n",
       "is_tidewater                                      False               False\n",
       "status                               Glacier or ice cap  Glacier or ice cap\n",
       "dem_source                                      NASADEM             NASADEM\n",
       "flowline_type                            elevation_band      elevation_band\n",
       "error_task                                         None                None\n",
       "error_msg                                          None                None\n",
       "dem_mean_elev                                3028.33252         3071.166992\n",
       "dem_med_elev                                     3054.0              3164.0\n",
       "dem_min_elev                                     2430.0              1627.0\n",
       "dem_max_elev                                     3691.0              4089.0\n",
       "dem_max_elev_on_ext                              3672.0              4089.0\n",
       "dem_min_elev_on_ext                              2430.0              1627.0\n",
       "dem_perc_area_above_max_elev_on_ext            0.002797                 0.0\n",
       "terminus_lon                                  10.802747            8.025083\n",
       "terminus_lat                                  46.818901           46.397464\n",
       "main_flowline_length                             5600.0             18906.0\n",
       "inv_flowline_glacier_area                     8036000.0          82206000.0\n",
       "flowline_mean_elev                          3026.878257         3075.263293\n",
       "flowline_max_elev                           3612.846072         3954.701667\n",
       "flowline_min_elev                           2455.169167         1718.526178\n",
       "flowline_avg_slope                              0.20631            0.120696\n",
       "flowline_avg_width                               1435.0         4348.143447\n",
       "flowline_last_width                          142.480836          222.595202\n",
       "flowline_last_5_widths                       387.124644          650.920146\n",
       "t_star                                              NaN                 NaN\n",
       "mu_star_glacierwide                          275.602035          303.619384\n",
       "mu_star_flowline_avg                         275.602035          303.619384\n",
       "mu_star_allsame                                    True                True\n",
       "mb_bias                                               0                   0\n",
       "prcp_fac_from_winter_prcp                      3.357136            1.776515"
      ]
     },
     "execution_count": 24,
     "metadata": {},
     "output_type": "execute_result"
    }
   ],
   "source": [
    "#  prcp_fac from winter_prcp also saved here:\n",
    "glacier_stats = utils.compile_glacier_statistics(gdirs)\n",
    "glacier_stats.T"
   ]
  },
  {
   "cell_type": "markdown",
   "id": "e90bacd2",
   "metadata": {},
   "source": [
    "**can estimate fixed geometry**:\n",
    "\n",
    "- remark: I put that before the ice thickness inversion because you don't need that for that (in prepro level, it is computed after ice thickness inversion)\n",
    "- need loop here at the moment because prcp. fac not yet incorporated in `compile_fixed_geometry ...`\n",
    "\n",
    "    **--> instead could use the same approach as with `apparent_mb_from_any_mb`** (see below)\n"
   ]
  },
  {
   "cell_type": "code",
   "execution_count": 25,
   "id": "bf978773",
   "metadata": {},
   "outputs": [
    {
     "data": {
      "image/png": "[encoded data removed]",
      "text/plain": [
       "<Figure size 432x288 with 1 Axes>"
      ]
     },
     "metadata": {
      "needs_background": "light"
     },
     "output_type": "display_data"
    }
   ],
   "source": [
    "#rgi_reg='test'\n",
    "#opath = os.path.join(sum_dir, 'fixed_geometry_mass_balance_{}.csv'.format(rgi_reg))\n",
    "for gdir in gdirs:\n",
    "    pf = gdir.read_json('local_mustar')['prcp_fac_from_winter_prcp']\n",
    "    fixed_geom = oggm.core.massbalance.fixed_geometry_mass_balance(gdir, precipitation_factor = pf)\n",
    "    plt.plot(fixed_geom)"
   ]
  },
  {
   "cell_type": "code",
   "execution_count": null,
   "id": "11929e8e",
   "metadata": {},
   "outputs": [],
   "source": []
  },
  {
   "cell_type": "code",
   "execution_count": null,
   "id": "43c02600",
   "metadata": {},
   "outputs": [],
   "source": []
  },
  {
   "cell_type": "markdown",
   "id": "39ef463b",
   "metadata": {},
   "source": [
    "### 3. Ice thickness inversion\n",
    "\n",
    "- we need to make sure that we use the right prcp. fac here ! \n"
   ]
  },
  {
   "cell_type": "code",
   "execution_count": 26,
   "id": "debc740d",
   "metadata": {},
   "outputs": [
    {
     "name": "stderr",
     "output_type": "stream",
     "text": [
      "2022-05-17 18:52:32: oggm.workflow: Execute entity tasks [apparent_mb_from_any_mb] on 2 glaciers\n"
     ]
    },
    {
     "data": {
      "text/plain": [
       "[None, None]"
      ]
     },
     "execution_count": 26,
     "metadata": {},
     "output_type": "execute_result"
    }
   ],
   "source": [
    "# inside of OGGM: \n",
    "#from oggm.core.massbalance import MultipleFlowlineMassBalance\n",
    "#mb_model = MultipleFlowlineMassBalance(gdir, use_inversion_flowlines=True)\n",
    "#try:\n",
    "#    pf = gdir.read_json('local_mustar')['prcp_fac_from_winter_prcp']\n",
    "#    mb_model.prcp_fac = pf\n",
    "#except KeyError:\n",
    "#    pass\n",
    "\n",
    "workflow.execute_entity_task(tasks.apparent_mb_from_any_mb, gdirs)"
   ]
  },
  {
   "cell_type": "code",
   "execution_count": 27,
   "id": "2daec352",
   "metadata": {},
   "outputs": [],
   "source": [
    "from oggm.core.massbalance import MultipleFlowlineMassBalance, PastMassBalance"
   ]
  },
  {
   "cell_type": "code",
   "execution_count": 28,
   "id": "8ebbe382",
   "metadata": {},
   "outputs": [
    {
     "name": "stderr",
     "output_type": "stream",
     "text": [
      "2022-05-17 18:52:34: oggm.workflow: Execute entity tasks [compute_downstream_line] on 2 glaciers\n",
      "2022-05-17 18:52:34: oggm.workflow: Execute entity tasks [compute_downstream_bedshape] on 2 glaciers\n",
      "2022-05-17 18:52:34: oggm.workflow: Applying global task calibrate_inversion_from_consensus on 2 glaciers\n",
      "2022-05-17 18:52:34: oggm.workflow: Consensus estimate optimisation with A factor: 0.1 and fs: 0\n",
      "2022-05-17 18:52:34: oggm.workflow: Applying global task inversion_tasks on 2 glaciers\n",
      "2022-05-17 18:52:34: oggm.workflow: Execute entity tasks [prepare_for_inversion] on 2 glaciers\n",
      "2022-05-17 18:52:34: oggm.workflow: Execute entity tasks [mass_conservation_inversion] on 2 glaciers\n",
      "2022-05-17 18:52:34: oggm.workflow: Execute entity tasks [filter_inversion_output] on 2 glaciers\n",
      "2022-05-17 18:52:34: oggm.workflow: Execute entity tasks [get_inversion_volume] on 2 glaciers\n",
      "2022-05-17 18:52:34: oggm.workflow: Consensus estimate optimisation with A factor: 10.0 and fs: 0\n",
      "2022-05-17 18:52:34: oggm.workflow: Applying global task inversion_tasks on 2 glaciers\n",
      "2022-05-17 18:52:34: oggm.workflow: Execute entity tasks [prepare_for_inversion] on 2 glaciers\n",
      "2022-05-17 18:52:34: oggm.workflow: Execute entity tasks [mass_conservation_inversion] on 2 glaciers\n",
      "2022-05-17 18:52:34: oggm.workflow: Execute entity tasks [filter_inversion_output] on 2 glaciers\n",
      "2022-05-17 18:52:34: oggm.workflow: Execute entity tasks [get_inversion_volume] on 2 glaciers\n",
      "2022-05-17 18:52:34: oggm.workflow: Consensus estimate optimisation with A factor: 7.189426833304259 and fs: 0\n",
      "2022-05-17 18:52:34: oggm.workflow: Applying global task inversion_tasks on 2 glaciers\n",
      "2022-05-17 18:52:34: oggm.workflow: Execute entity tasks [prepare_for_inversion] on 2 glaciers\n",
      "2022-05-17 18:52:34: oggm.workflow: Execute entity tasks [mass_conservation_inversion] on 2 glaciers\n",
      "2022-05-17 18:52:34: oggm.workflow: Execute entity tasks [filter_inversion_output] on 2 glaciers\n",
      "2022-05-17 18:52:34: oggm.workflow: Execute entity tasks [get_inversion_volume] on 2 glaciers\n",
      "2022-05-17 18:52:34: oggm.workflow: Consensus estimate optimisation with A factor: 3.644713416652129 and fs: 0\n",
      "2022-05-17 18:52:34: oggm.workflow: Applying global task inversion_tasks on 2 glaciers\n",
      "2022-05-17 18:52:34: oggm.workflow: Execute entity tasks [prepare_for_inversion] on 2 glaciers\n",
      "2022-05-17 18:52:34: oggm.workflow: Execute entity tasks [mass_conservation_inversion] on 2 glaciers\n",
      "2022-05-17 18:52:34: oggm.workflow: Execute entity tasks [filter_inversion_output] on 2 glaciers\n",
      "2022-05-17 18:52:34: oggm.workflow: Execute entity tasks [get_inversion_volume] on 2 glaciers\n",
      "2022-05-17 18:52:34: oggm.workflow: Consensus estimate optimisation with A factor: 1.8723567083260646 and fs: 0\n",
      "2022-05-17 18:52:34: oggm.workflow: Applying global task inversion_tasks on 2 glaciers\n",
      "2022-05-17 18:52:34: oggm.workflow: Execute entity tasks [prepare_for_inversion] on 2 glaciers\n",
      "2022-05-17 18:52:34: oggm.workflow: Execute entity tasks [mass_conservation_inversion] on 2 glaciers\n",
      "2022-05-17 18:52:34: oggm.workflow: Execute entity tasks [filter_inversion_output] on 2 glaciers\n",
      "2022-05-17 18:52:34: oggm.workflow: Execute entity tasks [get_inversion_volume] on 2 glaciers\n",
      "2022-05-17 18:52:34: oggm.workflow: Consensus estimate optimisation with A factor: 1.6895619864485063 and fs: 0\n",
      "2022-05-17 18:52:34: oggm.workflow: Applying global task inversion_tasks on 2 glaciers\n",
      "2022-05-17 18:52:34: oggm.workflow: Execute entity tasks [prepare_for_inversion] on 2 glaciers\n",
      "2022-05-17 18:52:34: oggm.workflow: Execute entity tasks [mass_conservation_inversion] on 2 glaciers\n",
      "2022-05-17 18:52:34: oggm.workflow: Execute entity tasks [filter_inversion_output] on 2 glaciers\n",
      "2022-05-17 18:52:34: oggm.workflow: Execute entity tasks [get_inversion_volume] on 2 glaciers\n",
      "2022-05-17 18:52:34: oggm.workflow: Consensus estimate optimisation with A factor: 1.739875982041252 and fs: 0\n",
      "2022-05-17 18:52:34: oggm.workflow: Applying global task inversion_tasks on 2 glaciers\n",
      "2022-05-17 18:52:34: oggm.workflow: Execute entity tasks [prepare_for_inversion] on 2 glaciers\n",
      "2022-05-17 18:52:34: oggm.workflow: Execute entity tasks [mass_conservation_inversion] on 2 glaciers\n",
      "2022-05-17 18:52:34: oggm.workflow: Execute entity tasks [filter_inversion_output] on 2 glaciers\n",
      "2022-05-17 18:52:34: oggm.workflow: Execute entity tasks [get_inversion_volume] on 2 glaciers\n",
      "2022-05-17 18:52:34: oggm.workflow: Consensus estimate optimisation with A factor: 1.7311766021300456 and fs: 0\n",
      "2022-05-17 18:52:34: oggm.workflow: Applying global task inversion_tasks on 2 glaciers\n",
      "2022-05-17 18:52:34: oggm.workflow: Execute entity tasks [prepare_for_inversion] on 2 glaciers\n",
      "2022-05-17 18:52:34: oggm.workflow: Execute entity tasks [mass_conservation_inversion] on 2 glaciers\n",
      "2022-05-17 18:52:35: oggm.workflow: Execute entity tasks [filter_inversion_output] on 2 glaciers\n",
      "2022-05-17 18:52:35: oggm.workflow: Execute entity tasks [get_inversion_volume] on 2 glaciers\n",
      "2022-05-17 18:52:35: oggm.workflow: calibrate_inversion_from_consensus converged after 7 iterations and fs=0. The resulting Glen A factor is 1.739875982041252.\n",
      "2022-05-17 18:52:35: oggm.workflow: Applying global task inversion_tasks on 2 glaciers\n",
      "2022-05-17 18:52:35: oggm.workflow: Execute entity tasks [prepare_for_inversion] on 2 glaciers\n",
      "2022-05-17 18:52:35: oggm.workflow: Execute entity tasks [mass_conservation_inversion] on 2 glaciers\n",
      "2022-05-17 18:52:35: oggm.workflow: Execute entity tasks [filter_inversion_output] on 2 glaciers\n",
      "2022-05-17 18:52:35: oggm.workflow: Execute entity tasks [get_inversion_volume] on 2 glaciers\n"
     ]
    },
    {
     "data": {
      "text/html": [
       "<div>\n",
       "<style scoped>\n",
       "    .dataframe tbody tr th:only-of-type {\n",
       "        vertical-align: middle;\n",
       "    }\n",
       "\n",
       "    .dataframe tbody tr th {\n",
       "        vertical-align: top;\n",
       "    }\n",
       "\n",
       "    .dataframe thead th {\n",
       "        text-align: right;\n",
       "    }\n",
       "</style>\n",
       "<table border=\"1\" class=\"dataframe\">\n",
       "  <thead>\n",
       "    <tr style=\"text-align: right;\">\n",
       "      <th></th>\n",
       "      <th>vol_itmix_m3</th>\n",
       "      <th>vol_bsl_itmix_m3</th>\n",
       "      <th>vol_oggm_m3</th>\n",
       "    </tr>\n",
       "    <tr>\n",
       "      <th>RGIId</th>\n",
       "      <th></th>\n",
       "      <th></th>\n",
       "      <th></th>\n",
       "    </tr>\n",
       "  </thead>\n",
       "  <tbody>\n",
       "    <tr>\n",
       "      <th>RGI60-11.00897</th>\n",
       "      <td>5.778528e+08</td>\n",
       "      <td>0.0</td>\n",
       "      <td>7.015905e+08</td>\n",
       "    </tr>\n",
       "    <tr>\n",
       "      <th>RGI60-11.01450</th>\n",
       "      <td>1.375232e+10</td>\n",
       "      <td>0.0</td>\n",
       "      <td>1.362545e+10</td>\n",
       "    </tr>\n",
       "  </tbody>\n",
       "</table>\n",
       "</div>"
      ],
      "text/plain": [
       "                vol_itmix_m3  vol_bsl_itmix_m3   vol_oggm_m3\n",
       "RGIId                                                       \n",
       "RGI60-11.00897  5.778528e+08               0.0  7.015905e+08\n",
       "RGI60-11.01450  1.375232e+10               0.0  1.362545e+10"
      ]
     },
     "execution_count": 28,
     "metadata": {},
     "output_type": "execute_result"
    }
   ],
   "source": [
    "# Inversion: we match the consensus\n",
    "border = 80\n",
    "filter = border >= 20\n",
    "\n",
    "if border >= 20:\n",
    "    task_list = [\n",
    "        tasks.compute_downstream_line,\n",
    "        tasks.compute_downstream_bedshape,\n",
    "    ]\n",
    "    for task in task_list:\n",
    "        workflow.execute_entity_task(task, gdirs)\n",
    "\n",
    "workflow.calibrate_inversion_from_consensus(gdirs,\n",
    "                                            apply_fs_on_mismatch=True,\n",
    "                                            error_on_mismatch=False,\n",
    "                                            filter_inversion_output=filter)"
   ]
  },
  {
   "cell_type": "code",
   "execution_count": 29,
   "id": "22a42755",
   "metadata": {},
   "outputs": [
    {
     "name": "stderr",
     "output_type": "stream",
     "text": [
      "2022-05-17 18:52:35: oggm.workflow: Execute entity tasks [init_present_time_glacier] on 2 glaciers\n"
     ]
    }
   ],
   "source": [
    "# We get ready for modelling\n",
    "if border >= 20:\n",
    "    workflow.execute_entity_task(tasks.init_present_time_glacier, gdirs)\n",
    "else:\n",
    "    log.workflow('L3: for map border values < 20, wont initialize glaciers '\n",
    "                 'for the run.')"
   ]
  },
  {
   "cell_type": "code",
   "execution_count": 30,
   "id": "e2d7952c",
   "metadata": {},
   "outputs": [],
   "source": [
    "rgi_reg = 'test'"
   ]
  },
  {
   "cell_type": "code",
   "execution_count": 31,
   "id": "264301d4",
   "metadata": {},
   "outputs": [
    {
     "name": "stderr",
     "output_type": "stream",
     "text": [
      "2022-05-17 18:52:35: oggm.utils: Applying global task compile_glacier_statistics on 2 glaciers\n",
      "2022-05-17 18:52:35: oggm.workflow: Execute entity tasks [glacier_statistics] on 2 glaciers\n",
      "2022-05-17 18:52:35: oggm.utils: Applying global task compile_climate_statistics on 2 glaciers\n",
      "2022-05-17 18:52:35: oggm.workflow: Execute entity tasks [climate_statistics] on 2 glaciers\n"
     ]
    }
   ],
   "source": [
    "opath = os.path.join(sum_dir, 'glacier_statistics_{}.csv'.format(rgi_reg))\n",
    "glacier_stats = utils.compile_glacier_statistics(gdirs, path=opath)\n",
    "opath = os.path.join(sum_dir, 'climate_statistics_{}.csv'.format(rgi_reg))\n",
    "clim_stats = utils.compile_climate_statistics(gdirs, path=opath, winter_daily_mean_prcp = True)\n"
   ]
  },
  {
   "cell_type": "code",
   "execution_count": 32,
   "id": "c50fb02c",
   "metadata": {},
   "outputs": [
    {
     "data": {
      "text/plain": [
       "1.7765151972292408"
      ]
     },
     "execution_count": 32,
     "metadata": {},
     "output_type": "execute_result"
    }
   ],
   "source": [
    "gdir.read_json('local_mustar')['prcp_fac_from_winter_prcp']\n"
   ]
  },
  {
   "cell_type": "markdown",
   "id": "ba496289",
   "metadata": {},
   "source": [
    "---"
   ]
  },
  {
   "cell_type": "markdown",
   "id": "93e0d414",
   "metadata": {},
   "source": [
    "## Start of Level 5 tasks\n",
    "\n",
    "--> ATTENTION: at the moment run_from_climate_data does not take the right prcp. factor ... \n",
    "-> I just do a loop here to prescribe the right prcp_fac \n",
    "\n",
    "**--> instead could use the same approach as with `apparent_mb_from_any_mb`**\n"
   ]
  },
  {
   "cell_type": "code",
   "execution_count": 33,
   "id": "f96ecd99",
   "metadata": {},
   "outputs": [],
   "source": [
    "from oggm.core.flowline import FluxBasedModel\n",
    "\n",
    "evolution_model = FluxBasedModel\n",
    "\n",
    "y0 = 1979  # this is where the W5E5 climate dataset begins\n",
    "ye = 2019  # and ends\n",
    "\n",
    "for gdir in gdirs:\n",
    "    pf = gdir.read_json('local_mustar')['prcp_fac_from_winter_prcp']\n",
    "    tasks.run_from_climate_data(gdir,\n",
    "                             min_ys=y0, ye=ye,\n",
    "                             evolution_model=evolution_model,\n",
    "                             output_filesuffix='_historical',\n",
    "                               precipitation_factor=pf) "
   ]
  },
  {
   "cell_type": "code",
   "execution_count": 34,
   "id": "603d9e0b",
   "metadata": {},
   "outputs": [
    {
     "name": "stderr",
     "output_type": "stream",
     "text": [
      "2022-05-17 18:52:37: oggm.utils: Applying global task compile_run_output on 2 glaciers\n",
      "2022-05-17 18:52:37: oggm.utils: Applying compile_run_output on 2 gdirs.\n"
     ]
    }
   ],
   "source": [
    "opath = os.path.join(sum_dir, f'historical_run_output_{rgi_reg}.nc')\n",
    "\n",
    "ds_hist = utils.compile_run_output(gdirs, path=opath, input_filesuffix='_historical')"
   ]
  },
  {
   "cell_type": "code",
   "execution_count": 35,
   "id": "33baba35",
   "metadata": {},
   "outputs": [
    {
     "data": {
      "text/plain": [
       "Text(0.5, 1.0, 'RGI60-11.00897')"
      ]
     },
     "execution_count": 35,
     "metadata": {},
     "output_type": "execute_result"
    },
    {
     "data": {
      "image/png": "[encoded data removed]",
      "text/plain": [
       "<Figure size 432x288 with 1 Axes>"
      ]
     },
     "metadata": {
      "needs_background": "light"
     },
     "output_type": "display_data"
    }
   ],
   "source": [
    "plt.plot(ds_hist.calendar_year, ds_hist.volume.isel(rgi_id=0))\n",
    "plt.title(ds_hist.isel(rgi_id=0).rgi_id.values)"
   ]
  },
  {
   "cell_type": "code",
   "execution_count": 36,
   "id": "d4795e1b",
   "metadata": {},
   "outputs": [
    {
     "data": {
      "text/plain": [
       "Text(0.5, 1.0, 'RGI60-11.01450')"
      ]
     },
     "execution_count": 36,
     "metadata": {},
     "output_type": "execute_result"
    },
    {
     "data": {
      "image/png": "[encoded data removed]",
      "text/plain": [
       "<Figure size 432x288 with 1 Axes>"
      ]
     },
     "metadata": {
      "needs_background": "light"
     },
     "output_type": "display_data"
    }
   ],
   "source": [
    "plt.plot(ds_hist.calendar_year, ds_hist.volume.isel(rgi_id=-1))\n",
    "plt.title(ds_hist.isel(rgi_id=-1).rgi_id.values)"
   ]
  },
  {
   "cell_type": "markdown",
   "id": "6c073709",
   "metadata": {},
   "source": [
    "If we use as baseline_climate `W5E5` or `GSWP3_W5E5`, we do not need to do any bias correction, when we use the climate data from ISIMIP3b. This is because ISIMIP3b was internally bias-corrected to `W5E5` (add link). "
   ]
  },
  {
   "cell_type": "markdown",
   "id": "6785f5e9",
   "metadata": {},
   "source": [
    "TODO: \n",
    "\n",
    "- add mu_star, prcp_fac to run_from_climate output files?\n",
    "- add simplified only monthly `process_isimip_data` from `MBsandbox` to OGGM:\n",
    "    - need ISIMIP3b test file \n",
    "    - the flattened ISIMIP3b files (https://cluster.klima.uni-bremen.de/~lschuster/isimip3b_flat/flat/monthly/) should go to ~oggm/ ... ???\n",
    "- do projection run with isimip data"
   ]
  },
  {
   "cell_type": "code",
   "execution_count": null,
   "id": "1a697c8d",
   "metadata": {},
   "outputs": [],
   "source": []
  },
  {
   "cell_type": "code",
   "execution_count": null,
   "id": "258e1cc4",
   "metadata": {},
   "outputs": [],
   "source": []
  },
  {
   "cell_type": "code",
   "execution_count": null,
   "id": "cbee32a9",
   "metadata": {},
   "outputs": [],
   "source": []
  },
  {
   "cell_type": "code",
   "execution_count": null,
   "id": "56b1d7ac",
   "metadata": {},
   "outputs": [],
   "source": []
  },
  {
   "cell_type": "code",
   "execution_count": null,
   "id": "a766c7f1",
   "metadata": {},
   "outputs": [],
   "source": []
  },
  {
   "cell_type": "markdown",
   "id": "8e006068",
   "metadata": {},
   "source": [
    "## Other stuff from prepro level that is not so important for the notebook example workflow probably"
   ]
  },
  {
   "cell_type": "code",
   "execution_count": null,
   "id": "c6f55492",
   "metadata": {},
   "outputs": [],
   "source": []
  },
  {
   "cell_type": "code",
   "execution_count": 32,
   "id": "cdfbac9d",
   "metadata": {},
   "outputs": [],
   "source": [
    "dynamic_spinup = False #'volume' #False\n",
    "dynamic_spinup_start_year = 1901\n",
    "\n",
    "\n"
   ]
  },
  {
   "cell_type": "code",
   "execution_count": 33,
   "id": "d70c316a",
   "metadata": {},
   "outputs": [
    {
     "name": "stderr",
     "output_type": "stream",
     "text": [
      "2022-05-17 17:10:42: oggm.workflow: Execute entity tasks [run_from_climate_data] on 2 glaciers\n"
     ]
    },
    {
     "data": {
      "text/plain": [
       "[<oggm.core.flowline.FluxBasedModel at 0x7f1d120bc460>,\n",
       " <oggm.core.flowline.FluxBasedModel at 0x7f1d10c86790>]"
      ]
     },
     "execution_count": 33,
     "metadata": {},
     "output_type": "execute_result"
    }
   ],
   "source": [
    "# Which model?\n",
    "if evolution_model == 'massredis':\n",
    "    from oggm.core.flowline import MassRedistributionCurveModel\n",
    "    evolution_model = MassRedistributionCurveModel\n",
    "else:\n",
    "    from oggm.core.flowline import FluxBasedModel\n",
    "    evolution_model = FluxBasedModel\n",
    "\n",
    "# OK - run\n",
    "if dynamic_spinup:\n",
    "    if y0 > dynamic_spinup_start_year:\n",
    "        dynamic_spinup_start_year = y0\n",
    "    workflow.execute_entity_task(tasks.run_dynamic_spinup, gdirs,\n",
    "                                 evolution_model=evolution_model,\n",
    "                                 minimise_for=dynamic_spinup,\n",
    "                                 spinup_start_yr=dynamic_spinup_start_year,\n",
    "                                 output_filesuffix='_dynamic_spinup',\n",
    "                                 )\n",
    "    workflow.execute_entity_task(tasks.run_from_climate_data, gdirs,\n",
    "                                 min_ys=y0, ye=ye,\n",
    "                                 evolution_model=evolution_model,\n",
    "                                 init_model_filesuffix='_dynamic_spinup',\n",
    "                                 output_filesuffix='_hist_spin')\n",
    "    workflow.execute_entity_task(tasks.merge_consecutive_run_outputs, gdirs,\n",
    "                                 input_filesuffix_1='_dynamic_spinup',\n",
    "                                 input_filesuffix_2='_hist_spin',\n",
    "                                 output_filesuffix='_historical_spinup',\n",
    "                                 delete_input=True)\n",
    "\n",
    "workflow.execute_entity_task(tasks.run_from_climate_data, gdirs,\n",
    "                             min_ys=y0, ye=ye,\n",
    "                             evolution_model=evolution_model,\n",
    "                             output_filesuffix='_historical') "
   ]
  },
  {
   "cell_type": "code",
   "execution_count": 34,
   "id": "1a233a32",
   "metadata": {},
   "outputs": [
    {
     "name": "stderr",
     "output_type": "stream",
     "text": [
      "2022-05-17 17:10:43: oggm.utils: Applying global task compile_run_output on 2 glaciers\n",
      "2022-05-17 17:10:43: oggm.utils: Applying compile_run_output on 2 gdirs.\n"
     ]
    }
   ],
   "source": [
    "\n",
    "\n",
    "if dynamic_spinup:\n",
    "    opath = os.path.join(sum_dir, f'historical_spinup_run_output_{rgi_reg}.nc')\n",
    "    ds_hist_spinup = utils.compile_run_output(gdirs, path=opath,\n",
    "                             input_filesuffix='_historical_spinup')"
   ]
  },
  {
   "cell_type": "code",
   "execution_count": 35,
   "id": "9b92aeaf",
   "metadata": {},
   "outputs": [
    {
     "ename": "NameError",
     "evalue": "name 'ds_hist_spinup' is not defined",
     "output_type": "error",
     "traceback": [
      "\u001b[0;31m---------------------------------------------------------------------------\u001b[0m",
      "\u001b[0;31mNameError\u001b[0m                                 Traceback (most recent call last)",
      "\u001b[0;32m/tmp/ipykernel_64372/1179200546.py\u001b[0m in \u001b[0;36m<module>\u001b[0;34m\u001b[0m\n\u001b[0;32m----> 1\u001b[0;31m \u001b[0mplt\u001b[0m\u001b[0;34m.\u001b[0m\u001b[0mplot\u001b[0m\u001b[0;34m(\u001b[0m\u001b[0mds_hist_spinup\u001b[0m\u001b[0;34m.\u001b[0m\u001b[0mcalendar_year\u001b[0m\u001b[0;34m,\u001b[0m \u001b[0mds_hist_spinup\u001b[0m\u001b[0;34m.\u001b[0m\u001b[0mvolume\u001b[0m\u001b[0;34m.\u001b[0m\u001b[0misel\u001b[0m\u001b[0;34m(\u001b[0m\u001b[0mrgi_id\u001b[0m\u001b[0;34m=\u001b[0m\u001b[0;36m1\u001b[0m\u001b[0;34m)\u001b[0m\u001b[0;34m)\u001b[0m\u001b[0;34m\u001b[0m\u001b[0;34m\u001b[0m\u001b[0m\n\u001b[0m\u001b[1;32m      2\u001b[0m \u001b[0mplt\u001b[0m\u001b[0;34m.\u001b[0m\u001b[0mtitle\u001b[0m\u001b[0;34m(\u001b[0m\u001b[0mds_hist_spinup\u001b[0m\u001b[0;34m.\u001b[0m\u001b[0misel\u001b[0m\u001b[0;34m(\u001b[0m\u001b[0mrgi_id\u001b[0m\u001b[0;34m=\u001b[0m\u001b[0;36m1\u001b[0m\u001b[0;34m)\u001b[0m\u001b[0;34m.\u001b[0m\u001b[0mrgi_id\u001b[0m\u001b[0;34m.\u001b[0m\u001b[0mvalues\u001b[0m\u001b[0;34m)\u001b[0m\u001b[0;34m\u001b[0m\u001b[0;34m\u001b[0m\u001b[0m\n",
      "\u001b[0;31mNameError\u001b[0m: name 'ds_hist_spinup' is not defined"
     ]
    }
   ],
   "source": [
    "plt.plot(ds_hist_spinup.calendar_year, ds_hist_spinup.volume.isel(rgi_id=1))\n",
    "plt.title(ds_hist_spinup.isel(rgi_id=1).rgi_id.values)"
   ]
  },
  {
   "cell_type": "code",
   "execution_count": null,
   "id": "de219e5a",
   "metadata": {},
   "outputs": [],
   "source": []
  },
  {
   "cell_type": "markdown",
   "id": "8c0154e8",
   "metadata": {},
   "source": []
  },
  {
   "cell_type": "code",
   "execution_count": null,
   "id": "5b5c26d0",
   "metadata": {},
   "outputs": [],
   "source": []
  },
  {
   "cell_type": "code",
   "execution_count": null,
   "id": "34fe4d19",
   "metadata": {},
   "outputs": [],
   "source": []
  },
  {
   "cell_type": "markdown",
   "id": "0e867f0f",
   "metadata": {},
   "source": [
    "### OLD stuff"
   ]
  },
  {
   "cell_type": "code",
   "execution_count": null,
   "id": "b1ec2aa0",
   "metadata": {},
   "outputs": [],
   "source": []
  },
  {
   "cell_type": "markdown",
   "id": "6e0104eb",
   "metadata": {},
   "source": []
  },
  {
   "cell_type": "code",
   "execution_count": null,
   "id": "1a34cfac",
   "metadata": {},
   "outputs": [],
   "source": []
  },
  {
   "cell_type": "code",
   "execution_count": null,
   "id": "8cacc2f6",
   "metadata": {},
   "outputs": [],
   "source": []
  },
  {
   "cell_type": "code",
   "execution_count": null,
   "id": "c837b63e",
   "metadata": {},
   "outputs": [],
   "source": []
  },
  {
   "cell_type": "code",
   "execution_count": null,
   "id": "f48e329e",
   "metadata": {},
   "outputs": [],
   "source": []
  },
  {
   "cell_type": "code",
   "execution_count": null,
   "id": "4b9377dd",
   "metadata": {},
   "outputs": [],
   "source": []
  },
  {
   "cell_type": "code",
   "execution_count": null,
   "id": "a2e117a7",
   "metadata": {},
   "outputs": [],
   "source": [
    "# Climate\n",
    "        workflow.execute_entity_task(tasks.process_climate_data, gdirs)\n",
    "\n",
    "\n",
    "\n",
    "        # Inversion: we match the consensus\n",
    "        filter = border >= 20\n",
    "        workflow.calibrate_inversion_from_consensus(gdirs,\n",
    "                                                    apply_fs_on_mismatch=True,\n",
    "                                                    error_on_mismatch=False,\n",
    "                                                    filter_inversion_output=filter)\n",
    "\n",
    "        # Do we want to match geodetic estimates?\n",
    "        # This affects only the bias so we can actually do this *after*\n",
    "        # the inversion, but we really want to take calving into account here\n",
    "        if match_regional_geodetic_mb:\n",
    "            opath = os.path.join(sum_dir, 'fixed_geometry_mass_balance_'\n",
    "                                          'before_match_{}.csv'.format(rgi_reg))\n",
    "            utils.compile_fixed_geometry_mass_balance(gdirs, path=opath)\n",
    "            workflow.match_regional_geodetic_mb(gdirs, rgi_reg=rgi_reg,\n",
    "                                                dataset=match_regional_geodetic_mb)\n",
    "\n",
    "        # We get ready for modelling\n",
    "        if border >= 20:\n",
    "            workflow.execute_entity_task(tasks.init_present_time_glacier, gdirs)\n",
    "        else:\n",
    "            log.workflow('L3: for map border values < 20, wont initialize glaciers '\n",
    "                         'for the run.')\n",
    "        # Glacier stats\n",
    "        opath = os.path.join(sum_dir, 'glacier_statistics_{}.csv'.format(rgi_reg))\n",
    "        utils.compile_glacier_statistics(gdirs, path=opath)\n",
    "        opath = os.path.join(sum_dir, 'climate_statistics_{}.csv'.format(rgi_reg))\n",
    "        utils.compile_climate_statistics(gdirs, path=opath)\n",
    "        opath = os.path.join(sum_dir, 'fixed_geometry_mass_balance_{}.csv'.format(rgi_reg))\n",
    "        utils.compile_fixed_geometry_mass_balance(gdirs, path=opath)\n",
    "\n",
    "        # L3 OK - compress all in output directory\n",
    "        log.workflow('L3 done. Writing to tar...')\n",
    "        level_base_dir = os.path.join(output_base_dir, 'L3')\n",
    "        workflow.execute_entity_task(utils.gdir_to_tar, gdirs, delete=False,\n",
    "                                     base_dir=level_base_dir)\n",
    "        utils.base_dir_to_tar(level_base_dir)\n",
    "        if max_level == 3:\n",
    "            _time_log()\n",
    "            return\n",
    "        if border < 20:\n",
    "            log.workflow('L3: for map border values < 20, wont compute L4 and L5.')\n",
    "            _time_log()\n",
    "            return\n",
    "\n",
    "        # is needed to copy some files for L4 and L5\n",
    "        sum_dir_L3 = sum_dir\n",
    "\n",
    "    # L4 - No tasks: add some stats for consistency and make the dirs small\n",
    "    if start_level <= 3:\n",
    "        sum_dir = os.path.join(output_base_dir, 'L4', 'summary')\n",
    "        utils.mkdir(sum_dir)\n",
    "\n",
    "        # Copy L3 files for consistency\n",
    "        for bn in ['glacier_statistics', 'climate_statistics',\n",
    "                   'fixed_geometry_mass_balance']:\n",
    "            if start_level < 3:\n",
    "                ipath = os.path.join(sum_dir_L3, bn + '_{}.csv'.format(rgi_reg))\n",
    "            else:\n",
    "                ipath = file_downloader(os.path.join(\n",
    "                    get_prepro_base_url(base_url=start_base_url,\n",
    "                                        rgi_version=rgi_version, border=border,\n",
    "                                        prepro_level=start_level), 'summary',\n",
    "                    bn + '_{}.csv'.format(rgi_reg)))\n",
    "\n",
    "            opath = os.path.join(sum_dir, bn + '_{}.csv'.format(rgi_reg))\n",
    "            shutil.copyfile(ipath, opath)\n",
    "\n",
    "        # Copy mini data to new dir\n",
    "        mini_base_dir = os.path.join(working_dir, 'mini_perglacier',\n",
    "                                     'RGI{}'.format(rgi_version),\n",
    "                                     'b_{:03d}'.format(border))\n",
    "        mini_gdirs = workflow.execute_entity_task(tasks.copy_to_basedir, gdirs,\n",
    "                                                  base_dir=mini_base_dir)\n",
    "\n",
    "        # L4 OK - compress all in output directory\n",
    "        log.workflow('L4 done. Writing to tar...')\n",
    "        level_base_dir = os.path.join(output_base_dir, 'L4')\n",
    "        workflow.execute_entity_task(utils.gdir_to_tar, mini_gdirs, delete=False,\n",
    "                                     base_dir=level_base_dir)\n",
    "        utils.base_dir_to_tar(level_base_dir)\n",
    "        if max_level == 4:\n",
    "            _time_log()\n",
    "            return\n",
    "\n",
    "        # use mini_gdirs for L5\n",
    "        gdirs = mini_gdirs\n",
    "\n",
    "    # L5 - spinup run in mini gdirs\n",
    "    # Get end date. The first gdir might have blown up, try some others\n",
    "    i = 0\n",
    "    while True:\n",
    "        if i >= len(gdirs):\n",
    "            raise RuntimeError('Found no valid glaciers!')\n",
    "        try:\n",
    "            y0 = gdirs[i].get_climate_info()['baseline_hydro_yr_0']\n",
    "            # One adds 1 because the run ends at the end of the year\n",
    "            ye = gdirs[i].get_climate_info()['baseline_hydro_yr_1'] + 1\n",
    "            break\n",
    "        except BaseException:\n",
    "            i += 1\n",
    "\n",
    "    # Which model?\n",
    "    if evolution_model == 'massredis':\n",
    "        from oggm.core.flowline import MassRedistributionCurveModel\n",
    "        evolution_model = MassRedistributionCurveModel\n",
    "    else:\n",
    "        from oggm.core.flowline import FluxBasedModel\n",
    "        evolution_model = FluxBasedModel\n",
    "\n",
    "    # OK - run\n",
    "    if dynamic_spinup:\n",
    "        if y0 > dynamic_spinup_start_year:\n",
    "            dynamic_spinup_start_year = y0\n",
    "        workflow.execute_entity_task(tasks.run_dynamic_spinup, gdirs,\n",
    "                                     evolution_model=evolution_model,\n",
    "                                     minimise_for=dynamic_spinup,\n",
    "                                     spinup_start_yr=dynamic_spinup_start_year,\n",
    "                                     output_filesuffix='_dynamic_spinup',\n",
    "                                     )\n",
    "        workflow.execute_entity_task(tasks.run_from_climate_data, gdirs,\n",
    "                                     min_ys=y0, ye=ye,\n",
    "                                     evolution_model=evolution_model,\n",
    "                                     init_model_filesuffix='_dynamic_spinup',\n",
    "                                     output_filesuffix='_hist_spin')\n",
    "        workflow.execute_entity_task(tasks.merge_consecutive_run_outputs, gdirs,\n",
    "                                     input_filesuffix_1='_dynamic_spinup',\n",
    "                                     input_filesuffix_2='_hist_spin',\n",
    "                                     output_filesuffix='_historical_spinup',\n",
    "                                     delete_input=True)\n",
    "\n",
    "    workflow.execute_entity_task(tasks.run_from_climate_data, gdirs,\n",
    "                                 min_ys=y0, ye=ye,\n",
    "                                 evolution_model=evolution_model,\n",
    "                                 output_filesuffix='_historical')\n",
    "\n",
    "    # Now compile the output\n",
    "    sum_dir = os.path.join(output_base_dir, 'L5', 'summary')\n",
    "    utils.mkdir(sum_dir)\n",
    "    opath = os.path.join(sum_dir, f'historical_run_output_{rgi_reg}.nc')\n",
    "    utils.compile_run_output(gdirs, path=opath, input_filesuffix='_historical')\n",
    "\n",
    "    if dynamic_spinup:\n",
    "        opath = os.path.join(sum_dir, f'historical_spinup_run_output_{rgi_reg}.nc')\n",
    "        utils.compile_run_output(gdirs, path=opath,\n",
    "                                 input_filesuffix='_historical_spinup')\n",
    "\n",
    "    # Glacier statistics we recompute here for error analysis\n",
    "    opath = os.path.join(sum_dir, 'glacier_statistics_{}.csv'.format(rgi_reg))\n",
    "    utils.compile_glacier_statistics(gdirs, path=opath)\n",
    "\n",
    "    # Other stats for consistency\n",
    "    for bn in ['climate_statistics', 'fixed_geometry_mass_balance']:\n",
    "        if start_level < 3:\n",
    "            ipath = os.path.join(sum_dir_L3, bn + '_{}.csv'.format(rgi_reg))\n",
    "        else:\n",
    "            ipath = file_downloader(os.path.join(\n",
    "                get_prepro_base_url(base_url=start_base_url,\n",
    "                                    rgi_version=rgi_version, border=border,\n",
    "                                    prepro_level=start_level), 'summary',\n",
    "                bn + '_{}.csv'.format(rgi_reg)))\n",
    "        opath = os.path.join(sum_dir, bn + '_{}.csv'.format(rgi_reg))\n",
    "        shutil.copyfile(ipath, opath)\n",
    "\n",
    "    # Add the extended files\n",
    "    pf = os.path.join(sum_dir, 'historical_run_output_{}.nc'.format(rgi_reg))\n",
    "    mf = os.path.join(sum_dir, 'fixed_geometry_mass_balance_{}.csv'.format(rgi_reg))\n",
    "    # This is crucial - extending calving only possible with L3 data!!!\n",
    "    if start_level < 3:\n",
    "        sf = os.path.join(sum_dir_L3, 'glacier_statistics_{}.csv'.format(rgi_reg))\n",
    "    else:\n",
    "        sf = file_downloader(os.path.join(\n",
    "            get_prepro_base_url(base_url=start_base_url,\n",
    "                                rgi_version=rgi_version, border=border,\n",
    "                                prepro_level=start_level), 'summary',\n",
    "            'glacier_statistics_{}.csv'.format(rgi_reg)))\n",
    "    opath = os.path.join(sum_dir, 'historical_run_output_extended_{}.nc'.format(rgi_reg))\n",
    "    utils.extend_past_climate_run(past_run_file=pf,\n",
    "                                  fixed_geometry_mb_file=mf,\n",
    "                                  glacier_statistics_file=sf,\n",
    "                                  path=opath)\n",
    "\n",
    "    # L5 OK - compress all in output directory\n",
    "    log.workflow('L5 done. Writing to tar...')\n",
    "    level_base_dir = os.path.join(output_base_dir, 'L5')\n",
    "    workflow.execute_entity_task(utils.gdir_to_tar, gdirs, delete=False,\n",
    "                                 base_dir=level_base_dir)\n",
    "    utils.base_dir_to_tar(level_base_dir)\n",
    "\n",
    "    _time_log()"
   ]
  },
  {
   "cell_type": "code",
   "execution_count": null,
   "id": "bb61c4f7",
   "metadata": {},
   "outputs": [],
   "source": []
  },
  {
   "cell_type": "code",
   "execution_count": null,
   "id": "7f170074",
   "metadata": {},
   "outputs": [],
   "source": []
  },
  {
   "cell_type": "code",
   "execution_count": null,
   "id": "9a626a15",
   "metadata": {},
   "outputs": [],
   "source": []
  },
  {
   "cell_type": "code",
   "execution_count": null,
   "id": "e02e759f",
   "metadata": {},
   "outputs": [],
   "source": []
  },
  {
   "cell_type": "code",
   "execution_count": null,
   "id": "0b65e578",
   "metadata": {},
   "outputs": [],
   "source": []
  },
  {
   "cell_type": "markdown",
   "id": "b8abbc96",
   "metadata": {},
   "source": [
    "## geodetic data from Hugonnet et al. (2021)"
   ]
  },
  {
   "cell_type": "code",
   "execution_count": 40,
   "id": "3d62c27d",
   "metadata": {},
   "outputs": [],
   "source": [
    "use_per_region_files = False\n",
    "if use_per_region_files:\n",
    "    # you can download this yourself under https://www.sedoo.fr/theia-publication-products/?uuid=c428c5b9-df8f-4f86-9b75-e04c778e29b9 \n",
    "    hugonnet_path = '/home/lilianschuster/Schreibtisch/PhD/hugonnet_et_al_2021_per_glacier_time_series/dh_{}_rgi60_pergla_rates.csv'\n",
    "    rgi = {}\n",
    "    pd_geodetic_l = {}\n",
    "    for rgi in ['01','02','03','04','05','06','07','08','09','10','11','12', '13', '14', '15', '16', '17', '18', '19']:\n",
    "        pd_geodetic_l[rgi] = pd.read_csv(hugonnet_path.format(rgi),  encoding='utf-7', index_col='rgiid')\n",
    "        # we only want the measurements from 2000 to the end of 2019 \n",
    "        pd_geodetic_l_20 = pd_geodetic_l[rgi].loc[pd_geodetic_l[rgi].period == '2000-01-01_2020-01-01']\n",
    "        pd_geodetic_l_10_0 = pd_geodetic_l[rgi].loc[pd_geodetic_l[rgi].period == '2000-01-01_2010-01-01']\n",
    "        pd_geodetic_l_10_1 = pd_geodetic_l[rgi].loc[pd_geodetic_l[rgi].period == '2010-01-01_2020-01-01']\n",
    "        pd_geodetic_l[rgi] = pd.concat([pd_geodetic_l_20, pd_geodetic_l_10_0, pd_geodetic_l_10_1])\n",
    "        pd_geodetic_l[rgi] = pd_geodetic_l[rgi].sort_values('rgiid')\n",
    "        # concatenate all geodetic observations together that are reference glaciers with at least 5 msm in time period 2000 to 2019\n",
    "    pd_geodetic = pd_geodetic_l['01']# [pd_geodetic_l['01'].index.isin(pd_wgms.columns.values)]\n",
    "    for rgi in ['02','03','04','05','06','07','08','09','10','11','12', '13', '14', '15', '16', '17', '18', '19']:\n",
    "        sel = pd_geodetic_l[rgi]#[pd_geodetic_l[rgi].index.isin(pd_wgms.columns.values)]\n",
    "        pd_geodetic = pd.concat([pd_geodetic, sel])\n",
    "    pd_geodetic.to_csv('hugonnet_2021_ds_rgi60_pergla_rates_10_20_worldwide.csv')\n",
    "else:\n",
    "    # we use now the corrected and filled dataset\n",
    "    pd_geodetic = utils.get_geodetic_mb_dataframe()\n",
    "    pd_geodetic = pd_geodetic.loc[pd_geodetic.period == '2000-01-01_2020-01-01']"
   ]
  },
  {
   "cell_type": "code",
   "execution_count": 52,
   "id": "02e5a1ed",
   "metadata": {},
   "outputs": [
    {
     "data": {
      "text/plain": [
       "210118"
      ]
     },
     "execution_count": 52,
     "metadata": {},
     "output_type": "execute_result"
    }
   ],
   "source": [
    "len(set(pd_geodetic.dropna().index))"
   ]
  },
  {
   "cell_type": "code",
   "execution_count": 6,
   "id": "5a5877c3",
   "metadata": {},
   "outputs": [
    {
     "data": {
      "text/html": [
       "<div>\n",
       "<style scoped>\n",
       "    .dataframe tbody tr th:only-of-type {\n",
       "        vertical-align: middle;\n",
       "    }\n",
       "\n",
       "    .dataframe tbody tr th {\n",
       "        vertical-align: top;\n",
       "    }\n",
       "\n",
       "    .dataframe thead th {\n",
       "        text-align: right;\n",
       "    }\n",
       "</style>\n",
       "<table border=\"1\" class=\"dataframe\">\n",
       "  <thead>\n",
       "    <tr style=\"text-align: right;\">\n",
       "      <th></th>\n",
       "      <th>period</th>\n",
       "      <th>area</th>\n",
       "      <th>dhdt</th>\n",
       "      <th>err_dhdt</th>\n",
       "      <th>dvoldt</th>\n",
       "      <th>err_dvoldt</th>\n",
       "      <th>dmdt</th>\n",
       "      <th>err_dmdt</th>\n",
       "      <th>dmdtda</th>\n",
       "      <th>err_dmdtda</th>\n",
       "      <th>perc_area_meas</th>\n",
       "      <th>perc_area_res</th>\n",
       "      <th>valid_obs</th>\n",
       "      <th>valid_obs_py</th>\n",
       "      <th>reg</th>\n",
       "    </tr>\n",
       "    <tr>\n",
       "      <th>rgiid</th>\n",
       "      <th></th>\n",
       "      <th></th>\n",
       "      <th></th>\n",
       "      <th></th>\n",
       "      <th></th>\n",
       "      <th></th>\n",
       "      <th></th>\n",
       "      <th></th>\n",
       "      <th></th>\n",
       "      <th></th>\n",
       "      <th></th>\n",
       "      <th></th>\n",
       "      <th></th>\n",
       "      <th></th>\n",
       "      <th></th>\n",
       "    </tr>\n",
       "  </thead>\n",
       "  <tbody>\n",
       "    <tr>\n",
       "      <th>RGI60-19.00001</th>\n",
       "      <td>2000-01-01_2001-01-01</td>\n",
       "      <td>64608000.0</td>\n",
       "      <td>0.0490</td>\n",
       "      <td>2.8692</td>\n",
       "      <td>3166797.0</td>\n",
       "      <td>185376458.0</td>\n",
       "      <td>0.002692</td>\n",
       "      <td>0.157570</td>\n",
       "      <td>0.0417</td>\n",
       "      <td>2.4389</td>\n",
       "      <td>0.996</td>\n",
       "      <td>1.000</td>\n",
       "      <td>0.00</td>\n",
       "      <td>0.00</td>\n",
       "      <td>19</td>\n",
       "    </tr>\n",
       "    <tr>\n",
       "      <th>RGI60-19.00001</th>\n",
       "      <td>2000-01-01_2002-01-01</td>\n",
       "      <td>64608000.0</td>\n",
       "      <td>0.0332</td>\n",
       "      <td>1.3097</td>\n",
       "      <td>2145671.0</td>\n",
       "      <td>84614265.0</td>\n",
       "      <td>0.001824</td>\n",
       "      <td>0.071922</td>\n",
       "      <td>0.0282</td>\n",
       "      <td>1.1132</td>\n",
       "      <td>0.996</td>\n",
       "      <td>1.000</td>\n",
       "      <td>0.00</td>\n",
       "      <td>0.00</td>\n",
       "      <td>19</td>\n",
       "    </tr>\n",
       "    <tr>\n",
       "      <th>RGI60-19.00001</th>\n",
       "      <td>2000-01-01_2004-01-01</td>\n",
       "      <td>64608000.0</td>\n",
       "      <td>0.0487</td>\n",
       "      <td>0.6026</td>\n",
       "      <td>3143438.0</td>\n",
       "      <td>38935260.0</td>\n",
       "      <td>0.002672</td>\n",
       "      <td>0.033096</td>\n",
       "      <td>0.0414</td>\n",
       "      <td>0.5123</td>\n",
       "      <td>0.996</td>\n",
       "      <td>1.000</td>\n",
       "      <td>1.17</td>\n",
       "      <td>1.16</td>\n",
       "      <td>19</td>\n",
       "    </tr>\n",
       "    <tr>\n",
       "      <th>RGI60-19.00001</th>\n",
       "      <td>2000-01-01_2005-01-01</td>\n",
       "      <td>64608000.0</td>\n",
       "      <td>0.0016</td>\n",
       "      <td>0.5340</td>\n",
       "      <td>102991.0</td>\n",
       "      <td>34499998.0</td>\n",
       "      <td>0.000088</td>\n",
       "      <td>0.029325</td>\n",
       "      <td>0.0014</td>\n",
       "      <td>0.4539</td>\n",
       "      <td>0.996</td>\n",
       "      <td>1.000</td>\n",
       "      <td>2.17</td>\n",
       "      <td>2.16</td>\n",
       "      <td>19</td>\n",
       "    </tr>\n",
       "    <tr>\n",
       "      <th>RGI60-19.00001</th>\n",
       "      <td>2000-01-01_2010-01-01</td>\n",
       "      <td>64608000.0</td>\n",
       "      <td>-0.0534</td>\n",
       "      <td>0.3199</td>\n",
       "      <td>-3452384.0</td>\n",
       "      <td>20665638.0</td>\n",
       "      <td>-0.002935</td>\n",
       "      <td>0.017567</td>\n",
       "      <td>-0.0454</td>\n",
       "      <td>0.2719</td>\n",
       "      <td>0.996</td>\n",
       "      <td>1.000</td>\n",
       "      <td>4.40</td>\n",
       "      <td>4.20</td>\n",
       "      <td>19</td>\n",
       "    </tr>\n",
       "    <tr>\n",
       "      <th>...</th>\n",
       "      <td>...</td>\n",
       "      <td>...</td>\n",
       "      <td>...</td>\n",
       "      <td>...</td>\n",
       "      <td>...</td>\n",
       "      <td>...</td>\n",
       "      <td>...</td>\n",
       "      <td>...</td>\n",
       "      <td>...</td>\n",
       "      <td>...</td>\n",
       "      <td>...</td>\n",
       "      <td>...</td>\n",
       "      <td>...</td>\n",
       "      <td>...</td>\n",
       "      <td>...</td>\n",
       "    </tr>\n",
       "    <tr>\n",
       "      <th>RGI60-19.02752</th>\n",
       "      <td>2016-01-01_2020-01-01</td>\n",
       "      <td>528000.0</td>\n",
       "      <td>-0.3660</td>\n",
       "      <td>1.4540</td>\n",
       "      <td>-193224.0</td>\n",
       "      <td>768177.0</td>\n",
       "      <td>-0.000164</td>\n",
       "      <td>0.000653</td>\n",
       "      <td>-0.3111</td>\n",
       "      <td>1.2376</td>\n",
       "      <td>0.981</td>\n",
       "      <td>0.981</td>\n",
       "      <td>0.54</td>\n",
       "      <td>0.54</td>\n",
       "      <td>19</td>\n",
       "    </tr>\n",
       "    <tr>\n",
       "      <th>RGI60-19.02752</th>\n",
       "      <td>2017-01-01_2018-01-01</td>\n",
       "      <td>528000.0</td>\n",
       "      <td>-0.3551</td>\n",
       "      <td>5.6545</td>\n",
       "      <td>-187504.0</td>\n",
       "      <td>2985716.0</td>\n",
       "      <td>-0.000159</td>\n",
       "      <td>0.002538</td>\n",
       "      <td>-0.3019</td>\n",
       "      <td>4.8068</td>\n",
       "      <td>0.981</td>\n",
       "      <td>0.981</td>\n",
       "      <td>0.31</td>\n",
       "      <td>0.31</td>\n",
       "      <td>19</td>\n",
       "    </tr>\n",
       "    <tr>\n",
       "      <th>RGI60-19.02752</th>\n",
       "      <td>2018-01-01_2019-01-01</td>\n",
       "      <td>528000.0</td>\n",
       "      <td>-0.3762</td>\n",
       "      <td>5.7605</td>\n",
       "      <td>-198636.0</td>\n",
       "      <td>3041675.0</td>\n",
       "      <td>-0.000169</td>\n",
       "      <td>0.002585</td>\n",
       "      <td>-0.3198</td>\n",
       "      <td>4.8969</td>\n",
       "      <td>0.981</td>\n",
       "      <td>0.981</td>\n",
       "      <td>0.00</td>\n",
       "      <td>0.00</td>\n",
       "      <td>19</td>\n",
       "    </tr>\n",
       "    <tr>\n",
       "      <th>RGI60-19.02752</th>\n",
       "      <td>2018-01-01_2020-01-01</td>\n",
       "      <td>528000.0</td>\n",
       "      <td>-0.3922</td>\n",
       "      <td>2.9533</td>\n",
       "      <td>-207088.0</td>\n",
       "      <td>1559633.0</td>\n",
       "      <td>-0.000176</td>\n",
       "      <td>0.001326</td>\n",
       "      <td>-0.3334</td>\n",
       "      <td>2.5113</td>\n",
       "      <td>0.981</td>\n",
       "      <td>0.981</td>\n",
       "      <td>0.22</td>\n",
       "      <td>0.22</td>\n",
       "      <td>19</td>\n",
       "    </tr>\n",
       "    <tr>\n",
       "      <th>RGI60-19.02752</th>\n",
       "      <td>2019-01-01_2020-01-01</td>\n",
       "      <td>528000.0</td>\n",
       "      <td>-0.4082</td>\n",
       "      <td>5.9980</td>\n",
       "      <td>-215539.0</td>\n",
       "      <td>3167112.0</td>\n",
       "      <td>-0.000183</td>\n",
       "      <td>0.002692</td>\n",
       "      <td>-0.3470</td>\n",
       "      <td>5.0989</td>\n",
       "      <td>0.981</td>\n",
       "      <td>0.981</td>\n",
       "      <td>0.22</td>\n",
       "      <td>0.22</td>\n",
       "      <td>19</td>\n",
       "    </tr>\n",
       "  </tbody>\n",
       "</table>\n",
       "<p>115584 rows × 15 columns</p>\n",
       "</div>"
      ],
      "text/plain": [
       "                               period        area    dhdt  err_dhdt  \\\n",
       "rgiid                                                                 \n",
       "RGI60-19.00001  2000-01-01_2001-01-01  64608000.0  0.0490    2.8692   \n",
       "RGI60-19.00001  2000-01-01_2002-01-01  64608000.0  0.0332    1.3097   \n",
       "RGI60-19.00001  2000-01-01_2004-01-01  64608000.0  0.0487    0.6026   \n",
       "RGI60-19.00001  2000-01-01_2005-01-01  64608000.0  0.0016    0.5340   \n",
       "RGI60-19.00001  2000-01-01_2010-01-01  64608000.0 -0.0534    0.3199   \n",
       "...                               ...         ...     ...       ...   \n",
       "RGI60-19.02752  2016-01-01_2020-01-01    528000.0 -0.3660    1.4540   \n",
       "RGI60-19.02752  2017-01-01_2018-01-01    528000.0 -0.3551    5.6545   \n",
       "RGI60-19.02752  2018-01-01_2019-01-01    528000.0 -0.3762    5.7605   \n",
       "RGI60-19.02752  2018-01-01_2020-01-01    528000.0 -0.3922    2.9533   \n",
       "RGI60-19.02752  2019-01-01_2020-01-01    528000.0 -0.4082    5.9980   \n",
       "\n",
       "                   dvoldt   err_dvoldt      dmdt  err_dmdt  dmdtda  \\\n",
       "rgiid                                                                \n",
       "RGI60-19.00001  3166797.0  185376458.0  0.002692  0.157570  0.0417   \n",
       "RGI60-19.00001  2145671.0   84614265.0  0.001824  0.071922  0.0282   \n",
       "RGI60-19.00001  3143438.0   38935260.0  0.002672  0.033096  0.0414   \n",
       "RGI60-19.00001   102991.0   34499998.0  0.000088  0.029325  0.0014   \n",
       "RGI60-19.00001 -3452384.0   20665638.0 -0.002935  0.017567 -0.0454   \n",
       "...                   ...          ...       ...       ...     ...   \n",
       "RGI60-19.02752  -193224.0     768177.0 -0.000164  0.000653 -0.3111   \n",
       "RGI60-19.02752  -187504.0    2985716.0 -0.000159  0.002538 -0.3019   \n",
       "RGI60-19.02752  -198636.0    3041675.0 -0.000169  0.002585 -0.3198   \n",
       "RGI60-19.02752  -207088.0    1559633.0 -0.000176  0.001326 -0.3334   \n",
       "RGI60-19.02752  -215539.0    3167112.0 -0.000183  0.002692 -0.3470   \n",
       "\n",
       "                err_dmdtda  perc_area_meas  perc_area_res  valid_obs  \\\n",
       "rgiid                                                                  \n",
       "RGI60-19.00001      2.4389           0.996          1.000       0.00   \n",
       "RGI60-19.00001      1.1132           0.996          1.000       0.00   \n",
       "RGI60-19.00001      0.5123           0.996          1.000       1.17   \n",
       "RGI60-19.00001      0.4539           0.996          1.000       2.17   \n",
       "RGI60-19.00001      0.2719           0.996          1.000       4.40   \n",
       "...                    ...             ...            ...        ...   \n",
       "RGI60-19.02752      1.2376           0.981          0.981       0.54   \n",
       "RGI60-19.02752      4.8068           0.981          0.981       0.31   \n",
       "RGI60-19.02752      4.8969           0.981          0.981       0.00   \n",
       "RGI60-19.02752      2.5113           0.981          0.981       0.22   \n",
       "RGI60-19.02752      5.0989           0.981          0.981       0.22   \n",
       "\n",
       "                valid_obs_py  reg  \n",
       "rgiid                              \n",
       "RGI60-19.00001          0.00   19  \n",
       "RGI60-19.00001          0.00   19  \n",
       "RGI60-19.00001          1.16   19  \n",
       "RGI60-19.00001          2.16   19  \n",
       "RGI60-19.00001          4.20   19  \n",
       "...                      ...  ...  \n",
       "RGI60-19.02752          0.54   19  \n",
       "RGI60-19.02752          0.31   19  \n",
       "RGI60-19.02752          0.00   19  \n",
       "RGI60-19.02752          0.22   19  \n",
       "RGI60-19.02752          0.22   19  \n",
       "\n",
       "[115584 rows x 15 columns]"
      ]
     },
     "execution_count": 6,
     "metadata": {},
     "output_type": "execute_result"
    }
   ],
   "source": [
    "pd.read_csv(hugonnet_path.format(rgi),  encoding='utf-7', index_col='rgiid')"
   ]
  },
  {
   "cell_type": "code",
   "execution_count": 134,
   "id": "4477fee5",
   "metadata": {},
   "outputs": [
    {
     "data": {
      "text/plain": [
       "rgiid\n",
       "RGI60-01.00001     -12.8\n",
       "RGI60-01.00002    -229.0\n",
       "RGI60-01.00003    -797.9\n",
       "RGI60-01.00004    -407.5\n",
       "RGI60-01.00005      39.0\n",
       "                   ...  \n",
       "RGI60-19.02747    -676.5\n",
       "RGI60-19.02749    -826.8\n",
       "RGI60-19.02750    -411.7\n",
       "RGI60-19.02751   -1836.9\n",
       "RGI60-19.02752     -38.6\n",
       "Name: dmdtda, Length: 210120, dtype: float64"
      ]
     },
     "execution_count": 134,
     "metadata": {},
     "output_type": "execute_result"
    }
   ],
   "source": [
    "# this is the specific mass balance for every glacier \n",
    "pd_geodetic.dmdtda.dropna() *1000 # this is in kg/m2/yr"
   ]
  },
  {
   "cell_type": "markdown",
   "id": "bd7147fc",
   "metadata": {},
   "source": [
    "- for some few glaciers, there are no geodetic measurements!"
   ]
  },
  {
   "cell_type": "markdown",
   "id": "66aa953a",
   "metadata": {},
   "source": [
    "## calibration: "
   ]
  },
  {
   "cell_type": "markdown",
   "id": "e8305e7f",
   "metadata": {},
   "source": [
    "- have to set the hydro_year to 1 (geodetic data corresponds to MB from Jan 2000 to Jan 2020)!!!"
   ]
  },
  {
   "cell_type": "code",
   "execution_count": 136,
   "id": "a4299d4e",
   "metadata": {},
   "outputs": [],
   "source": [
    "cfg.PARAMS['baseline_climate'] = 'CRU' #'ERA5'\n",
    "cfg.PARAMS['hydro_month_nh'] = 1\n",
    "cfg.PARAMS['prcp_scaling_factor'] = 2.5 # if ERA5 use maybe 1.6 ?!"
   ]
  },
  {
   "cell_type": "code",
   "execution_count": 143,
   "id": "8b14d749",
   "metadata": {},
   "outputs": [],
   "source": [
    "def minimize_bias_geodetic_mu_star(x, gd_mb=None, mb_geodetic=None,\n",
    "                           h=None, w=None, pf=2.5,\n",
    "                           ys=np.arange(2000, 2020, 1),\n",
    "                           ):\n",
    "    \"\"\" calibrates the melt factor (melt_f/mu_star) by getting the bias to zero\n",
    "    comparing modelled mean specific mass balance between 2000 and 2020 to\n",
    "    observed geodetic data\n",
    "\n",
    "    Parameters\n",
    "    ----------\n",
    "    x : float\n",
    "        what is optimised (here the melt_f/mu_star)\n",
    "    gd_mb: class instance\n",
    "        instantiated class of Pastmassbalane, this is updated by mu_star\n",
    "    mb_geodetic: float\n",
    "         geodetic mass balance between 2000-2020 of the instantiated glacier\n",
    "    h: np.array\n",
    "        heights of the instantiated glacier\n",
    "    w: np.array\n",
    "        widths of the instantiated glacier\n",
    "    pf: float\n",
    "        precipitation scaling factor\n",
    "        default is 2.5\n",
    "    ys: np.array\n",
    "        years for which specific mass balance is computed\n",
    "        default is 2000--2019\n",
    "\n",
    "    Returns\n",
    "    -------\n",
    "    float\n",
    "        bias: modeled mass balance mean - reference mean (geodetic)\n",
    "        if absolute_bias = True:  np.abs(bias) is returned\n",
    "\n",
    "    \"\"\"\n",
    "    gd_mb.mu_star = x\n",
    "\n",
    "    gd_mb.prcp_fac = pf\n",
    "    mb_specific = gd_mb.get_specific_mb(heights=h,\n",
    "                                        widths=w,\n",
    "                                        year=ys).mean()\n",
    "    bias_calib = np.mean(mb_specific - mb_geodetic)\n",
    "\n",
    "    return bias_calib"
   ]
  },
  {
   "cell_type": "code",
   "execution_count": 158,
   "id": "173bd1ee",
   "metadata": {},
   "outputs": [
    {
     "name": "stderr",
     "output_type": "stream",
     "text": [
      "2021-05-12 10:08:55: oggm.workflow: init_glacier_directories from prepro level 2 on 1 glaciers.\n",
      "2021-05-12 10:08:55: oggm.workflow: Execute entity task gdir_from_prepro on 1 glaciers\n"
     ]
    }
   ],
   "source": [
    "df = ['RGI60-11.00897']\n",
    "#df = ['RGI60-11.01450']\n",
    "gdirs = workflow.init_glacier_directories(df, from_prepro_level=2,\n",
    "                                          prepro_border=10,\n",
    "                                          prepro_base_url=base_url,\n",
    "                                          prepro_rgi_version='62')\n",
    "gdir = gdirs[0]\n",
    "oggm.core.climate.process_climate_data(gdir)"
   ]
  },
  {
   "cell_type": "markdown",
   "id": "02ad65cb",
   "metadata": {},
   "source": [
    "**important**: \n",
    "- we need to set the residual/bias to zero in PastMassBalance\n"
   ]
  },
  {
   "cell_type": "code",
   "execution_count": 159,
   "id": "cd4b2bf6",
   "metadata": {},
   "outputs": [
    {
     "name": "stdout",
     "output_type": "stream",
     "text": [
      "184.32415325809973\n"
     ]
    }
   ],
   "source": [
    "# we use here the default OGGM mass balance model! \n",
    "gd_mb = massbalance.PastMassBalance(gdir, mu_star=200, # just set it to any value, this will be calibrated later\n",
    "                                    bias=0, # set to zero!\n",
    "                                    check_calib_params=False)\n",
    "# set the precipitation factor to a constant value of \n",
    "gd_mb.prcp_fac = cfg.PARAMS['prcp_scaling_factor'] # just to make sure that the right prcp factor is applied \n",
    "# get the geodetic measurements of that glacier\n",
    "mb_geodetic = pd_geodetic.loc[df].dmdtda.values *1000\n",
    "\n",
    "# calibration time period\n",
    "ys = np.arange(2000, 2020)\n",
    "h, w = gdir.get_inversion_flowline_hw()\n",
    "# find the optimal melt factor that minimises the bias of the geodetic measurements (2000-2019)\n",
    "# allow the melt factor to be between 10 and 1000, \n",
    "melt_f = scipy.optimize.brentq(minimize_bias_geodetic_mu_star, 10, 1000,  # allow the melt factor to be between 10 and 1000, \n",
    "                      xtol = 0.01, args=(gd_mb, mb_geodetic, h, w, cfg.PARAMS['prcp_scaling_factor'],\n",
    "                                         ys), # which years should be used: normally 2000-2019 (but for some climate datasets there is no 2019 available)\n",
    "                                    disp=True)\n",
    "# the mu_star is the melt factor ...                          \n",
    "print(melt_f)\n",
    "# you can save the calibrated melt_f/mu_star for the glacier or you can directly do projections, or whatever with the new calibrated mu_star / melt_f\n"
   ]
  },
  {
   "cell_type": "markdown",
   "id": "2474bf8a",
   "metadata": {},
   "source": [
    "## check and validation\n",
    "**here we only check if the calibration has worked and compare it to the direct glaciological measurements if there are any available for that glacier**"
   ]
  },
  {
   "cell_type": "code",
   "execution_count": 160,
   "id": "08caea5a",
   "metadata": {},
   "outputs": [],
   "source": [
    "# change in the mass balance model instance the mu_star to the new calibrated mu_star/melt_f\n",
    "gd_mb.mu_star = melt_f\n",
    "# compute the specific mass balance for that glacier using the calibrated melt_f\n",
    "mb_specific = gd_mb.get_specific_mb(heights=h,\n",
    "                                    widths=w,\n",
    "                                    year=ys)\n",
    "np.testing.assert_allclose(mb_geodetic, mb_specific.mean(), rtol=1e-3)"
   ]
  },
  {
   "cell_type": "code",
   "execution_count": 161,
   "id": "19b3c989",
   "metadata": {},
   "outputs": [
    {
     "data": {
      "image/png": "[encoded data removed]",
      "text/plain": [
       "<Figure size 1728x576 with 1 Axes>"
      ]
     },
     "metadata": {
      "needs_background": "light"
     },
     "output_type": "display_data"
    }
   ],
   "source": [
    "SMALL_SIZE = 20\n",
    "MEDIUM_SIZE = 22\n",
    "BIGGER_SIZE = 24\n",
    "\n",
    "plt.rc('font', size=SMALL_SIZE)          # controls default text sizes\n",
    "plt.rc('axes', titlesize=SMALL_SIZE)     # fontsize of the axes title\n",
    "plt.rc('axes', labelsize=MEDIUM_SIZE)    # fontsize of the x and y labels\n",
    "plt.rc('xtick', labelsize=SMALL_SIZE)    # fontsize of the tick labels\n",
    "plt.rc('ytick', labelsize=SMALL_SIZE)    # fontsize of the tick labels\n",
    "plt.rc('legend', fontsize=SMALL_SIZE)    # legend fontsize\n",
    "plt.rc('figure', titlesize=BIGGER_SIZE)  # fontsize of the figure title\n",
    "\n",
    "\n",
    "plt.figure(figsize=(24,8))\n",
    "plt.hlines(mb_geodetic, label = 'geodetic mean from Hugonnet et al. 2021 (Jan 2000-Jan 2020)', xmin=2000, xmax = 2019,\n",
    "            ls = '--',\n",
    "            color = 'black')\n",
    "\n",
    "# just for visualization: standard deviation from the Hugonnet data \n",
    "mb_geodetic_std = pd_geodetic.loc[df].err_dmdtda.values *1000\n",
    "plt.fill_between(x=ys,\n",
    "                 y1=np.repeat(mb_geodetic, len(ys))-mb_geodetic_std,\n",
    "                 y2=np.repeat(mb_geodetic, len(ys))+mb_geodetic_std,\n",
    "                 alpha = 0.1, color = 'black', label = 'geodetic mean standard deviation')\n",
    "\n",
    "plt.plot(ys, mb_specific, label='modelled mass balance (2000-2019)', color='orange')\n",
    "plt.hlines(mb_specific.mean(), label = 'modelled mass balance mean (2000-2019)',xmin=2000, xmax = 2019,\n",
    "           ls = ':', color = 'orange')\n",
    "\n",
    "\n",
    "\n",
    "try:\n",
    "    plt.plot(ys[:-1], gdir.get_ref_mb_data()['ANNUAL_BALANCE'].loc[2000:],label = 'direct glaciological measurements')\n",
    "    plt.hlines(gdir.get_ref_mb_data()['ANNUAL_BALANCE'].loc[2000:].values.mean(),\n",
    "              xmin=2000, xmax = gdir.get_ref_mb_data()['ANNUAL_BALANCE'].index[-1],\n",
    "                label = 'direct glaciological measurements mean (2000-2018)', ls = '--')\n",
    "\n",
    "except:\n",
    "    pass\n",
    "\n",
    "plt.xlabel('years')\n",
    "plt.ylabel('specific mass balance\\nkg m$^{-2}$ yr$^{-1}$')\n",
    "plt.xticks(ys)\n",
    "plt.legend();\n",
    "plt.title(gdir.rgi_id);"
   ]
  },
  {
   "cell_type": "markdown",
   "id": "d7be8a5a",
   "metadata": {},
   "source": [
    "- if you want to use the new calibration to do projections and use e.g. `run_from_climate_data`, we need to adapt the function because the new calibrated `mu_star` has to be included\n",
    "(I use my own set of functions because I had to change more stuff)\n",
    "    - **but maybe you find a better way that OGGM uses directly the internal new calibrated melt_f** (in my case I wanted to change other stuff like the precipitation factor, so this was not possible)\n",
    "- similar as in `run_from_climate_data_TIModel`, but you only need to change the mu_star/melt_f and not precipitation factor, so you won't need to defn-> https://github.com/OGGM/massbalance-sandbox/blob/master/MBsandbox/wip/projections_bayescalibration.py#L63\n",
    "- for the projections I use then `inversion_and_run_from_climate_with_bayes_mb_params` here (some bayesian calibration stuff included here, but it might help to see how to do the projections: -> https://github.com/OGGM/massbalance-sandbox/blob/15a26ec549e41c0d5506237f5fb2fb5d0bae5a07/MBsandbox/wip/projections_bayescalibration.py#L1104"
   ]
  },
  {
   "cell_type": "code",
   "execution_count": null,
   "id": "12ada3ad",
   "metadata": {},
   "outputs": [],
   "source": []
  }
 ],
 "metadata": {
  "kernelspec": {
   "display_name": "Python 3 (ipykernel)",
   "language": "python",
   "name": "python3"
  },
  "language_info": {
   "codemirror_mode": {
    "name": "ipython",
    "version": 3
   },
   "file_extension": ".py",
   "mimetype": "text/x-python",
   "name": "python",
   "nbconvert_exporter": "python",
   "pygments_lexer": "ipython3",
   "version": "3.9.4"
  }
 },
 "nbformat": 4,
 "nbformat_minor": 5
}
